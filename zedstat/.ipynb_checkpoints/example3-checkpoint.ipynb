{
 "cells": [
  {
   "cell_type": "code",
   "execution_count": 1,
   "metadata": {},
   "outputs": [
    {
     "ename": "ImportError",
     "evalue": "cannot import name 'zedstat' from 'zedstat' (/home/ishanu/ZED/Research/zedstat/zedstat/zedstat.py)",
     "output_type": "error",
     "traceback": [
      "\u001b[0;31m---------------------------------------------------------------------------\u001b[0m",
      "\u001b[0;31mImportError\u001b[0m                               Traceback (most recent call last)",
      "\u001b[0;32m/tmp/ipykernel_1406091/2040907778.py\u001b[0m in \u001b[0;36m<module>\u001b[0;34m\u001b[0m\n\u001b[1;32m      2\u001b[0m \u001b[0;32mimport\u001b[0m \u001b[0mos\u001b[0m\u001b[0;34m.\u001b[0m\u001b[0mpath\u001b[0m\u001b[0;34m\u001b[0m\u001b[0;34m\u001b[0m\u001b[0m\n\u001b[1;32m      3\u001b[0m \u001b[0;32mimport\u001b[0m \u001b[0mpylab\u001b[0m \u001b[0;32mas\u001b[0m \u001b[0mplt\u001b[0m\u001b[0;34m\u001b[0m\u001b[0;34m\u001b[0m\u001b[0m\n\u001b[0;32m----> 4\u001b[0;31m \u001b[0;32mfrom\u001b[0m \u001b[0mzedstat\u001b[0m \u001b[0;32mimport\u001b[0m \u001b[0mzedstat\u001b[0m\u001b[0;34m\u001b[0m\u001b[0;34m\u001b[0m\u001b[0m\n\u001b[0m\u001b[1;32m      5\u001b[0m \u001b[0;32mimport\u001b[0m \u001b[0mpandas\u001b[0m \u001b[0;32mas\u001b[0m \u001b[0mpd\u001b[0m\u001b[0;34m\u001b[0m\u001b[0;34m\u001b[0m\u001b[0m\n\u001b[1;32m      6\u001b[0m \u001b[0mplt\u001b[0m\u001b[0;34m.\u001b[0m\u001b[0mstyle\u001b[0m\u001b[0;34m.\u001b[0m\u001b[0muse\u001b[0m\u001b[0;34m(\u001b[0m\u001b[0;34m'fivethirtyeight'\u001b[0m\u001b[0;34m)\u001b[0m\u001b[0;34m\u001b[0m\u001b[0;34m\u001b[0m\u001b[0m\n",
      "\u001b[0;31mImportError\u001b[0m: cannot import name 'zedstat' from 'zedstat' (/home/ishanu/ZED/Research/zedstat/zedstat/zedstat.py)"
     ]
    }
   ],
   "source": [
    "import sys\n",
    "import os.path\n",
    "import pylab as plt\n",
    "from zedstat import zedstat \n",
    "import pandas as pd\n",
    "plt.style.use('fivethirtyeight')"
   ]
  },
  {
   "cell_type": "code",
   "execution_count": 3,
   "metadata": {},
   "outputs": [],
   "source": [
    "#\n",
    "# order is order of spline used for smoothing\n",
    "# alpha is significance level\n",
    "# prevalence is prevalence of positive class\n",
    "# \n",
    "zt=zedstat.processRoc(df=pd.read_csv('/home/ishanu/ZED/Research/publications/pub_pf_/data_broad/REVIEW/MANUSCRIPT_PERFORMANCE/ROC/F_TRUVEN_PIPELINE_BROAD_TARGET_young.csv'),\n",
    "           order=3, \n",
    "           total_samples=1000,\n",
    "           positive_samples=470,\n",
    "           alpha=0.01,\n",
    "           prevalence=.5)"
   ]
  },
  {
   "cell_type": "code",
   "execution_count": 4,
   "metadata": {},
   "outputs": [],
   "source": [
    "# compute smoothened roc and other performance measures\n",
    "zt.smooth(STEP=0.001)\n",
    "zt.allmeasures(interpolate=False)\n",
    "zt.usample(precision=3)\n",
    "zt.getBounds()"
   ]
  },
  {
   "cell_type": "code",
   "execution_count": 5,
   "metadata": {},
   "outputs": [
    {
     "data": {
      "image/png": "[encoded data removed]",
      "text/plain": [
       "<Figure size 432x288 with 1 Axes>"
      ]
     },
     "metadata": {
      "needs_background": "light"
     },
     "output_type": "display_data"
    }
   ],
   "source": [
    "ax=plt.gca()\n",
    "ax=zt.get().tpr.plot(ax=ax,color='k')\n",
    "plt.fill_between(x=zt.get().index, y1=zt.df_lim['U'].tpr,y2=zt.df_lim['L'].tpr, color='k',alpha=.2)\n",
    "ax.set_xlim(0,1)\n",
    "ax.set_ylim(0,1)\n",
    "ax.set_ylabel('tpr');"
   ]
  },
  {
   "cell_type": "code",
   "execution_count": 6,
   "metadata": {},
   "outputs": [
    {
     "data": {
      "text/plain": [
       "(0.8084255653266332, 0.8465126679023514, 0.7703384627509149)"
      ]
     },
     "execution_count": 6,
     "metadata": {},
     "output_type": "execute_result"
    }
   ],
   "source": [
    "zt.auc()"
   ]
  },
  {
   "cell_type": "code",
   "execution_count": 7,
   "metadata": {},
   "outputs": [
    {
     "data": {
      "text/html": [
       "<div>\n",
       "<style scoped>\n",
       "    .dataframe tbody tr th:only-of-type {\n",
       "        vertical-align: middle;\n",
       "    }\n",
       "\n",
       "    .dataframe tbody tr th {\n",
       "        vertical-align: top;\n",
       "    }\n",
       "\n",
       "    .dataframe thead th {\n",
       "        text-align: right;\n",
       "    }\n",
       "</style>\n",
       "<table border=\"1\" class=\"dataframe\">\n",
       "  <thead>\n",
       "    <tr style=\"text-align: right;\">\n",
       "      <th></th>\n",
       "      <th>tpr</th>\n",
       "      <th>ppv</th>\n",
       "      <th>acc</th>\n",
       "      <th>npv</th>\n",
       "      <th>LR+</th>\n",
       "      <th>LR-</th>\n",
       "      <th>threshold</th>\n",
       "    </tr>\n",
       "    <tr>\n",
       "      <th>fpr</th>\n",
       "      <th></th>\n",
       "      <th></th>\n",
       "      <th></th>\n",
       "      <th></th>\n",
       "      <th></th>\n",
       "      <th></th>\n",
       "      <th></th>\n",
       "    </tr>\n",
       "  </thead>\n",
       "  <tbody>\n",
       "    <tr>\n",
       "      <th>0.000</th>\n",
       "      <td>0.000000</td>\n",
       "      <td>NaN</td>\n",
       "      <td>0.500000</td>\n",
       "      <td>0.500000</td>\n",
       "      <td>NaN</td>\n",
       "      <td>1.000000</td>\n",
       "      <td>1.274293</td>\n",
       "    </tr>\n",
       "    <tr>\n",
       "      <th>0.001</th>\n",
       "      <td>0.106313</td>\n",
       "      <td>0.986551</td>\n",
       "      <td>0.552411</td>\n",
       "      <td>0.527729</td>\n",
       "      <td>76.721182</td>\n",
       "      <td>0.895015</td>\n",
       "      <td>0.117247</td>\n",
       "    </tr>\n",
       "    <tr>\n",
       "      <th>0.002</th>\n",
       "      <td>0.133009</td>\n",
       "      <td>0.981828</td>\n",
       "      <td>0.565261</td>\n",
       "      <td>0.535025</td>\n",
       "      <td>54.653988</td>\n",
       "      <td>0.869147</td>\n",
       "      <td>0.093792</td>\n",
       "    </tr>\n",
       "    <tr>\n",
       "      <th>0.003</th>\n",
       "      <td>0.153580</td>\n",
       "      <td>0.978072</td>\n",
       "      <td>0.575061</td>\n",
       "      <td>0.540739</td>\n",
       "      <td>44.923773</td>\n",
       "      <td>0.849354</td>\n",
       "      <td>0.082474</td>\n",
       "    </tr>\n",
       "    <tr>\n",
       "      <th>0.004</th>\n",
       "      <td>0.171901</td>\n",
       "      <td>0.974137</td>\n",
       "      <td>0.583645</td>\n",
       "      <td>0.545905</td>\n",
       "      <td>38.144282</td>\n",
       "      <td>0.831922</td>\n",
       "      <td>0.075037</td>\n",
       "    </tr>\n",
       "    <tr>\n",
       "      <th>...</th>\n",
       "      <td>...</td>\n",
       "      <td>...</td>\n",
       "      <td>...</td>\n",
       "      <td>...</td>\n",
       "      <td>...</td>\n",
       "      <td>...</td>\n",
       "      <td>...</td>\n",
       "    </tr>\n",
       "    <tr>\n",
       "      <th>0.996</th>\n",
       "      <td>0.999321</td>\n",
       "      <td>0.500931</td>\n",
       "      <td>0.501658</td>\n",
       "      <td>0.854807</td>\n",
       "      <td>1.004078</td>\n",
       "      <td>0.169854</td>\n",
       "      <td>0.018467</td>\n",
       "    </tr>\n",
       "    <tr>\n",
       "      <th>0.997</th>\n",
       "      <td>0.999491</td>\n",
       "      <td>0.500698</td>\n",
       "      <td>0.501244</td>\n",
       "      <td>0.854807</td>\n",
       "      <td>1.003058</td>\n",
       "      <td>0.169854</td>\n",
       "      <td>0.018467</td>\n",
       "    </tr>\n",
       "    <tr>\n",
       "      <th>0.998</th>\n",
       "      <td>0.999661</td>\n",
       "      <td>0.500465</td>\n",
       "      <td>0.500829</td>\n",
       "      <td>0.854807</td>\n",
       "      <td>1.002039</td>\n",
       "      <td>0.169854</td>\n",
       "      <td>0.018467</td>\n",
       "    </tr>\n",
       "    <tr>\n",
       "      <th>0.999</th>\n",
       "      <td>0.999830</td>\n",
       "      <td>0.500233</td>\n",
       "      <td>0.500415</td>\n",
       "      <td>0.854807</td>\n",
       "      <td>1.001019</td>\n",
       "      <td>0.169854</td>\n",
       "      <td>0.018467</td>\n",
       "    </tr>\n",
       "    <tr>\n",
       "      <th>1.000</th>\n",
       "      <td>1.000000</td>\n",
       "      <td>0.500000</td>\n",
       "      <td>0.500000</td>\n",
       "      <td>0.854807</td>\n",
       "      <td>1.000000</td>\n",
       "      <td>0.169854</td>\n",
       "      <td>0.018466</td>\n",
       "    </tr>\n",
       "  </tbody>\n",
       "</table>\n",
       "<p>1001 rows × 7 columns</p>\n",
       "</div>"
      ],
      "text/plain": [
       "            tpr       ppv       acc       npv        LR+       LR-  threshold\n",
       "fpr                                                                          \n",
       "0.000  0.000000       NaN  0.500000  0.500000        NaN  1.000000   1.274293\n",
       "0.001  0.106313  0.986551  0.552411  0.527729  76.721182  0.895015   0.117247\n",
       "0.002  0.133009  0.981828  0.565261  0.535025  54.653988  0.869147   0.093792\n",
       "0.003  0.153580  0.978072  0.575061  0.540739  44.923773  0.849354   0.082474\n",
       "0.004  0.171901  0.974137  0.583645  0.545905  38.144282  0.831922   0.075037\n",
       "...         ...       ...       ...       ...        ...       ...        ...\n",
       "0.996  0.999321  0.500931  0.501658  0.854807   1.004078  0.169854   0.018467\n",
       "0.997  0.999491  0.500698  0.501244  0.854807   1.003058  0.169854   0.018467\n",
       "0.998  0.999661  0.500465  0.500829  0.854807   1.002039  0.169854   0.018467\n",
       "0.999  0.999830  0.500233  0.500415  0.854807   1.001019  0.169854   0.018467\n",
       "1.000  1.000000  0.500000  0.500000  0.854807   1.000000  0.169854   0.018466\n",
       "\n",
       "[1001 rows x 7 columns]"
      ]
     },
     "execution_count": 7,
     "metadata": {},
     "output_type": "execute_result"
    }
   ],
   "source": [
    "zt.get()"
   ]
  },
  {
   "cell_type": "code",
   "execution_count": 8,
   "metadata": {},
   "outputs": [
    {
     "data": {
      "text/html": [
       "<div>\n",
       "<style scoped>\n",
       "    .dataframe tbody tr th:only-of-type {\n",
       "        vertical-align: middle;\n",
       "    }\n",
       "\n",
       "    .dataframe tbody tr th {\n",
       "        vertical-align: top;\n",
       "    }\n",
       "\n",
       "    .dataframe thead th {\n",
       "        text-align: right;\n",
       "    }\n",
       "</style>\n",
       "<table border=\"1\" class=\"dataframe\">\n",
       "  <thead>\n",
       "    <tr style=\"text-align: right;\">\n",
       "      <th></th>\n",
       "      <th>fpr</th>\n",
       "      <th>tpr</th>\n",
       "      <th>ppv</th>\n",
       "      <th>acc</th>\n",
       "      <th>npv</th>\n",
       "      <th>LR+</th>\n",
       "      <th>LR-</th>\n",
       "      <th>threshold</th>\n",
       "    </tr>\n",
       "  </thead>\n",
       "  <tbody>\n",
       "    <tr>\n",
       "      <th>high precision</th>\n",
       "      <td>0.001</td>\n",
       "      <td>0.106313</td>\n",
       "      <td>0.986551</td>\n",
       "      <td>0.552411</td>\n",
       "      <td>0.527729</td>\n",
       "      <td>76.721182</td>\n",
       "      <td>0.895015</td>\n",
       "      <td>0.117247</td>\n",
       "    </tr>\n",
       "    <tr>\n",
       "      <th>high sensitivity</th>\n",
       "      <td>0.152</td>\n",
       "      <td>0.606023</td>\n",
       "      <td>0.799838</td>\n",
       "      <td>0.726954</td>\n",
       "      <td>0.682955</td>\n",
       "      <td>4.010285</td>\n",
       "      <td>0.464390</td>\n",
       "      <td>0.024379</td>\n",
       "    </tr>\n",
       "  </tbody>\n",
       "</table>\n",
       "</div>"
      ],
      "text/plain": [
       "                    fpr       tpr       ppv       acc       npv        LR+   \n",
       "high precision    0.001  0.106313  0.986551  0.552411  0.527729  76.721182  \\\n",
       "high sensitivity  0.152  0.606023  0.799838  0.726954  0.682955   4.010285   \n",
       "\n",
       "                       LR-  threshold  \n",
       "high precision    0.895015   0.117247  \n",
       "high sensitivity  0.464390   0.024379  "
      ]
     },
     "metadata": {},
     "output_type": "display_data"
    },
    {
     "name": "stdout",
     "output_type": "stream",
     "text": [
      "100 30.064885547875335 1.810761178433199 1810.761178433199 31.875646726308535 69.93511445212467 200.0\n",
      "100 58.48542545208693 13.901153685639349 91.45495845815361 72.38657913772627 41.51457454791307 200.0\n",
      "high precision operation:\n",
      " For every 100 positive instances\n",
      " we raise 32 flags,\n",
      " out of which 30 are true positives\n",
      " 2 are false alarms\n",
      " 70 cases are missed\n",
      "\n",
      "\n",
      "high recall operation:\n",
      " For every 100 positive instances\n",
      " we raise 72 flags,\n",
      " out of which 58 are true positives\n",
      " 14 are false alarms\n",
      " 42 cases are missed\n"
     ]
    }
   ],
   "source": [
    "zt.operating_zone(LRminus=.95,LRplus=4)\n",
    "display(zt._operating_zone)\n",
    "rf0,txt0=zt.interpret(fpr=zt._operating_zone.fpr.values[0],number_of_positives=100)\n",
    "rf1,txt1=zt.interpret(fpr=zt._operating_zone.fpr.values[1],number_of_positives=100)\n",
    "print('high precision operation:\\n','\\n '.join(txt0))\n",
    "print('\\n')\n",
    "print('high recall operation:\\n','\\n '.join(txt1))"
   ]
  },
  {
   "cell_type": "markdown",
   "metadata": {},
   "source": [
    "## writing tables to latex"
   ]
  },
  {
   "cell_type": "code",
   "execution_count": 9,
   "metadata": {},
   "outputs": [],
   "source": [
    "from zedstat.textable import textable\n",
    "#textable(zt.get(),tabname='table.tex',FORMAT='%1.1f',TABFORMAT='L{1in}|L{1in}|L{1in}|L{1in}|L{1in}|L{1in}|L{1in}|L{1in}',LNTERM='\\\\\\\\\\n')"
   ]
  },
  {
   "cell_type": "code",
   "execution_count": 10,
   "metadata": {},
   "outputs": [
    {
     "data": {
      "text/html": [
       "<div>\n",
       "<style scoped>\n",
       "    .dataframe tbody tr th:only-of-type {\n",
       "        vertical-align: middle;\n",
       "    }\n",
       "\n",
       "    .dataframe tbody tr th {\n",
       "        vertical-align: top;\n",
       "    }\n",
       "\n",
       "    .dataframe thead th {\n",
       "        text-align: right;\n",
       "    }\n",
       "</style>\n",
       "<table border=\"1\" class=\"dataframe\">\n",
       "  <thead>\n",
       "    <tr style=\"text-align: right;\">\n",
       "      <th></th>\n",
       "      <th>tpr</th>\n",
       "      <th>ppv</th>\n",
       "      <th>acc</th>\n",
       "      <th>npv</th>\n",
       "      <th>LR+</th>\n",
       "      <th>LR-</th>\n",
       "      <th>threshold</th>\n",
       "    </tr>\n",
       "    <tr>\n",
       "      <th>fpr</th>\n",
       "      <th></th>\n",
       "      <th></th>\n",
       "      <th></th>\n",
       "      <th></th>\n",
       "      <th></th>\n",
       "      <th></th>\n",
       "      <th></th>\n",
       "    </tr>\n",
       "  </thead>\n",
       "  <tbody>\n",
       "    <tr>\n",
       "      <th>0.001</th>\n",
       "      <td>$0.106 \\pm 0.036$</td>\n",
       "      <td>$0.986 \\pm 0.003$</td>\n",
       "      <td>$0.552 \\pm 0.018$</td>\n",
       "      <td>$0.527 \\pm 0.010$</td>\n",
       "      <td>$76.72 \\pm 36.62$</td>\n",
       "      <td>$0.895 \\pm 0.036$</td>\n",
       "      <td>0.117247</td>\n",
       "    </tr>\n",
       "    <tr>\n",
       "      <th>0.152</th>\n",
       "      <td>$0.606 \\pm 0.058$</td>\n",
       "      <td>$0.799 \\pm 0.015$</td>\n",
       "      <td>$0.726 \\pm 0.029$</td>\n",
       "      <td>$0.682 \\pm 0.031$</td>\n",
       "      <td>$4.010 \\pm 0.381$</td>\n",
       "      <td>$0.464 \\pm 0.068$</td>\n",
       "      <td>0.024379</td>\n",
       "    </tr>\n",
       "  </tbody>\n",
       "</table>\n",
       "</div>"
      ],
      "text/plain": [
       "                     tpr                ppv                acc   \n",
       "fpr                                                              \n",
       "0.001  $0.106 \\pm 0.036$  $0.986 \\pm 0.003$  $0.552 \\pm 0.018$  \\\n",
       "0.152  $0.606 \\pm 0.058$  $0.799 \\pm 0.015$  $0.726 \\pm 0.029$   \n",
       "\n",
       "                     npv                LR+                LR-  threshold  \n",
       "fpr                                                                        \n",
       "0.001  $0.527 \\pm 0.010$  $76.72 \\pm 36.62$  $0.895 \\pm 0.036$   0.117247  \n",
       "0.152  $0.682 \\pm 0.031$  $4.010 \\pm 0.381$  $0.464 \\pm 0.068$   0.024379  "
      ]
     },
     "execution_count": 10,
     "metadata": {},
     "output_type": "execute_result"
    }
   ],
   "source": [
    "#pd.options.display.html.use_mathjax = False\n",
    "from zedstat.textable import tablewithbounds\n",
    "xf=tablewithbounds(zt.get(),zt.usample(zt.df_lim['U']),zt.usample(zt.df_lim['L']))#.to_csv('table.csv')\n",
    "xf.loc[zt._operating_zone.fpr.values]"
   ]
  },
  {
   "cell_type": "code",
   "execution_count": 12,
   "metadata": {},
   "outputs": [
    {
     "ename": "TypeError",
     "evalue": "NDFrame.to_csv() got an unexpected keyword argument 'line_terminator'",
     "output_type": "error",
     "traceback": [
      "\u001b[0;31m---------------------------------------------------------------------------\u001b[0m",
      "\u001b[0;31mTypeError\u001b[0m                                 Traceback (most recent call last)",
      "\u001b[0;32m/tmp/ipykernel_1405602/320618054.py\u001b[0m in \u001b[0;36m<module>\u001b[0;34m\u001b[0m\n\u001b[1;32m      1\u001b[0m \u001b[0;32mfrom\u001b[0m \u001b[0mzedstat\u001b[0m\u001b[0;34m.\u001b[0m\u001b[0mtextable\u001b[0m \u001b[0;32mimport\u001b[0m \u001b[0mtextable\u001b[0m\u001b[0;34m\u001b[0m\u001b[0;34m\u001b[0m\u001b[0m\n\u001b[0;32m----> 2\u001b[0;31m \u001b[0mtextable\u001b[0m\u001b[0;34m(\u001b[0m\u001b[0mxf\u001b[0m\u001b[0;34m,\u001b[0m\u001b[0mtabname\u001b[0m\u001b[0;34m=\u001b[0m\u001b[0;34m'tmp.tex'\u001b[0m\u001b[0;34m,\u001b[0m\u001b[0mFORMAT\u001b[0m\u001b[0;34m=\u001b[0m\u001b[0;34m'%1.3f'\u001b[0m\u001b[0;34m,\u001b[0m\u001b[0mINDEX\u001b[0m\u001b[0;34m=\u001b[0m\u001b[0;32mTrue\u001b[0m\u001b[0;34m,\u001b[0m\u001b[0mLNTERM\u001b[0m\u001b[0;34m=\u001b[0m\u001b[0;34m'\\\\\\\\\\\\hline\\n'\u001b[0m\u001b[0;34m)\u001b[0m\u001b[0;34m\u001b[0m\u001b[0;34m\u001b[0m\u001b[0m\n\u001b[0m",
      "\u001b[0;32m~/ZED/Research/zedstat/zedstat/textable.py\u001b[0m in \u001b[0;36mtextable\u001b[0;34m(df, tabname, FORMAT, INDEX, DUMMY, USE_l, TABFORMAT, LNTERM)\u001b[0m\n\u001b[1;32m     30\u001b[0m     \u001b[0;32mwith\u001b[0m \u001b[0mopen\u001b[0m\u001b[0;34m(\u001b[0m\u001b[0mtabname\u001b[0m\u001b[0;34m,\u001b[0m\u001b[0;34m'w'\u001b[0m\u001b[0;34m)\u001b[0m \u001b[0;32mas\u001b[0m \u001b[0mf\u001b[0m\u001b[0;34m:\u001b[0m\u001b[0;34m\u001b[0m\u001b[0;34m\u001b[0m\u001b[0m\n\u001b[1;32m     31\u001b[0m         \u001b[0mf\u001b[0m\u001b[0;34m.\u001b[0m\u001b[0mwrite\u001b[0m\u001b[0;34m(\u001b[0m\u001b[0mSTR\u001b[0m\u001b[0;34m)\u001b[0m\u001b[0;34m\u001b[0m\u001b[0;34m\u001b[0m\u001b[0m\n\u001b[0;32m---> 32\u001b[0;31m     df.to_csv(tabname,float_format=FORMAT,\n\u001b[0m\u001b[1;32m     33\u001b[0m               \u001b[0mline_terminator\u001b[0m\u001b[0;34m=\u001b[0m\u001b[0mLNTERM\u001b[0m\u001b[0;34m,\u001b[0m\u001b[0;34m\u001b[0m\u001b[0;34m\u001b[0m\u001b[0m\n\u001b[1;32m     34\u001b[0m               sep='&',quotechar=' ',index=None,mode='a')\n",
      "\u001b[0;31mTypeError\u001b[0m: NDFrame.to_csv() got an unexpected keyword argument 'line_terminator'"
     ]
    }
   ],
   "source": [
    "from zedstat.textable import textable\n",
    "textable(xf,tabname='tmp.tex',FORMAT='%1.3f',INDEX=True,LNTERM='\\\\\\\\\\\\hline\\n')     "
   ]
  },
  {
   "cell_type": "code",
   "execution_count": null,
   "metadata": {},
   "outputs": [],
   "source": []
  }
 ],
 "metadata": {
  "kernelspec": {
   "display_name": "Python 3 (ipykernel)",
   "language": "python",
   "name": "python3"
  },
  "language_info": {
   "codemirror_mode": {
    "name": "ipython",
    "version": 3
   },
   "file_extension": ".py",
   "mimetype": "text/x-python",
   "name": "python",
   "nbconvert_exporter": "python",
   "pygments_lexer": "ipython3",
   "version": "3.10.8"
  }
 },
 "nbformat": 4,
 "nbformat_minor": 4
}
