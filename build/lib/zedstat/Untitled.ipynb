{
 "cells": [
  {
   "cell_type": "code",
   "execution_count": 1,
   "metadata": {},
   "outputs": [
    {
     "data": {
      "image/png": "[encoded data removed]",
      "text/plain": [
       "<Figure size 432x288 with 1 Axes>"
      ]
     },
     "metadata": {
      "needs_background": "light"
     },
     "output_type": "display_data"
    }
   ],
   "source": [
    "import pandas as pd\n",
    "\n",
    "df=pd.read_csv('/home/ishanu/Dropbox/gibbons_global/code/roc_cat.csv',index_col=0).sort_values('fpr')\n",
    "df=df.groupby('fpr').max().reset_index()\n",
    "df.set_index('fpr').plot()\n",
    "df.set_index('fpr').to_csv('tmp.csv')\n"
   ]
  },
  {
   "cell_type": "code",
   "execution_count": 12,
   "metadata": {},
   "outputs": [
    {
     "name": "stdout",
     "output_type": "stream",
     "text": [
      "local version 1\n"
     ]
    },
    {
     "data": {
      "image/png": "[encoded data removed]",
      "text/plain": [
       "<Figure size 432x288 with 1 Axes>"
      ]
     },
     "metadata": {},
     "output_type": "display_data"
    }
   ],
   "source": [
    "import zedstat \n",
    "import pylab as plt\n",
    "plt.style.use('ggplot')\n",
    "zt=zedstat.processRoc(df=pd.read_csv('/home/ishanu/Dropbox/gibbons_global/code/roc_cat.csv',index_col=0),\n",
    "           order=3, \n",
    "           total_samples=502+470,\n",
    "           positive_samples=470,\n",
    "           alpha=0.01,\n",
    "           prevalence=470/(502+470))\n",
    "zt.smooth(STEP=0.001)\n",
    "zt.allmeasures(interpolate=True)\n",
    "zt.usample(precision=3)\n",
    "zt.getBounds()\n",
    "\n",
    "ax=plt.gca()\n",
    "ax=zt.get().tpr.plot(ax=ax,color='k')\n",
    "plt.fill_between(x=zt.get().index, y1=zt.df_lim['U'].tpr,y2=zt.df_lim['L'].tpr, color='k',alpha=.2)\n",
    "ax.set_xlim(0,1)\n",
    "ax.set_ylim(0,1)\n",
    "ax.set_ylabel('tpr');"
   ]
  },
  {
   "cell_type": "code",
   "execution_count": 13,
   "metadata": {},
   "outputs": [
    {
     "data": {
      "text/plain": [
       "(0.7457975233905985, 0.7844197368450332, 0.707175650944931)"
      ]
     },
     "execution_count": 13,
     "metadata": {},
     "output_type": "execute_result"
    }
   ],
   "source": [
    "zt.auc()"
   ]
  },
  {
   "cell_type": "code",
   "execution_count": 10,
   "metadata": {},
   "outputs": [
    {
     "data": {
      "text/html": [
       "<div>\n",
       "<style scoped>\n",
       "    .dataframe tbody tr th:only-of-type {\n",
       "        vertical-align: middle;\n",
       "    }\n",
       "\n",
       "    .dataframe tbody tr th {\n",
       "        vertical-align: top;\n",
       "    }\n",
       "\n",
       "    .dataframe thead th {\n",
       "        text-align: right;\n",
       "    }\n",
       "</style>\n",
       "<table border=\"1\" class=\"dataframe\">\n",
       "  <thead>\n",
       "    <tr style=\"text-align: right;\">\n",
       "      <th></th>\n",
       "      <th>tpr</th>\n",
       "      <th>ppv</th>\n",
       "      <th>acc</th>\n",
       "      <th>npv</th>\n",
       "      <th>LR+</th>\n",
       "      <th>LR-</th>\n",
       "    </tr>\n",
       "    <tr>\n",
       "      <th>fpr</th>\n",
       "      <th></th>\n",
       "      <th></th>\n",
       "      <th></th>\n",
       "      <th></th>\n",
       "      <th></th>\n",
       "      <th></th>\n",
       "    </tr>\n",
       "  </thead>\n",
       "  <tbody>\n",
       "    <tr>\n",
       "      <th>0.000</th>\n",
       "      <td>0.000000</td>\n",
       "      <td>1.000000</td>\n",
       "      <td>0.516461</td>\n",
       "      <td>0.516461</td>\n",
       "      <td>8.430669</td>\n",
       "      <td>1.000000</td>\n",
       "    </tr>\n",
       "    <tr>\n",
       "      <th>0.001</th>\n",
       "      <td>0.013410</td>\n",
       "      <td>0.884549</td>\n",
       "      <td>0.522346</td>\n",
       "      <td>0.519561</td>\n",
       "      <td>13.409611</td>\n",
       "      <td>0.987749</td>\n",
       "    </tr>\n",
       "    <tr>\n",
       "      <th>0.002</th>\n",
       "      <td>0.026026</td>\n",
       "      <td>0.914835</td>\n",
       "      <td>0.528013</td>\n",
       "      <td>0.522589</td>\n",
       "      <td>13.013013</td>\n",
       "      <td>0.975926</td>\n",
       "    </tr>\n",
       "    <tr>\n",
       "      <th>0.003</th>\n",
       "      <td>0.039039</td>\n",
       "      <td>0.925513</td>\n",
       "      <td>0.533788</td>\n",
       "      <td>0.525716</td>\n",
       "      <td>13.013013</td>\n",
       "      <td>0.963853</td>\n",
       "    </tr>\n",
       "    <tr>\n",
       "      <th>0.004</th>\n",
       "      <td>0.052052</td>\n",
       "      <td>0.930960</td>\n",
       "      <td>0.539564</td>\n",
       "      <td>0.528888</td>\n",
       "      <td>13.013013</td>\n",
       "      <td>0.951755</td>\n",
       "    </tr>\n",
       "    <tr>\n",
       "      <th>...</th>\n",
       "      <td>...</td>\n",
       "      <td>...</td>\n",
       "      <td>...</td>\n",
       "      <td>...</td>\n",
       "      <td>...</td>\n",
       "      <td>...</td>\n",
       "    </tr>\n",
       "    <tr>\n",
       "      <th>0.996</th>\n",
       "      <td>1.000000</td>\n",
       "      <td>0.484540</td>\n",
       "      <td>0.485605</td>\n",
       "      <td>1.000000</td>\n",
       "      <td>1.004016</td>\n",
       "      <td>0.000000</td>\n",
       "    </tr>\n",
       "    <tr>\n",
       "      <th>0.997</th>\n",
       "      <td>1.000000</td>\n",
       "      <td>0.484289</td>\n",
       "      <td>0.485088</td>\n",
       "      <td>1.000000</td>\n",
       "      <td>1.003009</td>\n",
       "      <td>0.000000</td>\n",
       "    </tr>\n",
       "    <tr>\n",
       "      <th>0.998</th>\n",
       "      <td>1.000000</td>\n",
       "      <td>0.484039</td>\n",
       "      <td>0.484572</td>\n",
       "      <td>1.000000</td>\n",
       "      <td>1.002004</td>\n",
       "      <td>0.000000</td>\n",
       "    </tr>\n",
       "    <tr>\n",
       "      <th>0.999</th>\n",
       "      <td>1.000000</td>\n",
       "      <td>0.483789</td>\n",
       "      <td>0.484056</td>\n",
       "      <td>1.000000</td>\n",
       "      <td>1.001001</td>\n",
       "      <td>0.000000</td>\n",
       "    </tr>\n",
       "    <tr>\n",
       "      <th>1.000</th>\n",
       "      <td>1.000000</td>\n",
       "      <td>0.000000</td>\n",
       "      <td>0.483539</td>\n",
       "      <td>1.013200</td>\n",
       "      <td>1.000000</td>\n",
       "      <td>0.017970</td>\n",
       "    </tr>\n",
       "  </tbody>\n",
       "</table>\n",
       "<p>1001 rows × 6 columns</p>\n",
       "</div>"
      ],
      "text/plain": [
       "            tpr       ppv       acc       npv        LR+       LR-\n",
       "fpr                                                               \n",
       "0.000  0.000000  1.000000  0.516461  0.516461   8.430669  1.000000\n",
       "0.001  0.013410  0.884549  0.522346  0.519561  13.409611  0.987749\n",
       "0.002  0.026026  0.914835  0.528013  0.522589  13.013013  0.975926\n",
       "0.003  0.039039  0.925513  0.533788  0.525716  13.013013  0.963853\n",
       "0.004  0.052052  0.930960  0.539564  0.528888  13.013013  0.951755\n",
       "...         ...       ...       ...       ...        ...       ...\n",
       "0.996  1.000000  0.484540  0.485605  1.000000   1.004016  0.000000\n",
       "0.997  1.000000  0.484289  0.485088  1.000000   1.003009  0.000000\n",
       "0.998  1.000000  0.484039  0.484572  1.000000   1.002004  0.000000\n",
       "0.999  1.000000  0.483789  0.484056  1.000000   1.001001  0.000000\n",
       "1.000  1.000000  0.000000  0.483539  1.013200   1.000000  0.017970\n",
       "\n",
       "[1001 rows x 6 columns]"
      ]
     },
     "execution_count": 10,
     "metadata": {},
     "output_type": "execute_result"
    }
   ],
   "source": [
    "zt.get()"
   ]
  },
  {
   "cell_type": "code",
   "execution_count": 11,
   "metadata": {},
   "outputs": [
    {
     "data": {
      "text/plain": [
       "{'U': array([0.78441974]),\n",
       " 'L': array([0.70717565]),\n",
       " 'nominal': 0.7457975233905985}"
      ]
     },
     "execution_count": 11,
     "metadata": {},
     "output_type": "execute_result"
    }
   ],
   "source": [
    "zt._auc"
   ]
  }
 ],
 "metadata": {
  "kernelspec": {
   "display_name": "Python 3 (ipykernel)",
   "language": "python",
   "name": "python3"
  },
  "language_info": {
   "codemirror_mode": {
    "name": "ipython",
    "version": 3
   },
   "file_extension": ".py",
   "mimetype": "text/x-python",
   "name": "python",
   "nbconvert_exporter": "python",
   "pygments_lexer": "ipython3",
   "version": "3.10.6"
  }
 },
 "nbformat": 4,
 "nbformat_minor": 4
}
