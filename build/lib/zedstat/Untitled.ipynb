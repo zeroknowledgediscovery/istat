{
 "cells": [
  {
   "cell_type": "code",
   "execution_count": null,
   "metadata": {},
   "outputs": [],
   "source": [
    "import pandas as pd\n",
    "\n",
    "df=pd.read_csv('/home/ishanu/Dropbox/gibbons_global/code/roc_cat.csv',index_col=0).sort_values('fpr')\n",
    "df=df.groupby('fpr').max().reset_index()\n",
    "df.set_index('fpr').plot()\n",
    "df.set_index('fpr').to_csv('tmp.csv')\n"
   ]
  },
  {
   "cell_type": "code",
   "execution_count": null,
   "metadata": {},
   "outputs": [],
   "source": [
    "import zedstat \n",
    "import pylab as plt\n",
    "plt.style.use('ggplot')\n",
    "zt=zedstat.processRoc(df=pd.read_csv('/home/ishanu/Dropbox/gibbons_global/code/roc_cat.csv',index_col=0),\n",
    "           order=3, \n",
    "           total_samples=502+470,\n",
    "           positive_samples=470,\n",
    "           alpha=0.01,\n",
    "           prevalence=470/(502+470))"
   ]
  },
  {
   "cell_type": "code",
   "execution_count": null,
   "metadata": {},
   "outputs": [],
   "source": [
    "zt.smooth(STEP=0.001,interpolate=False)\n",
    "zt.get().tpr.plot()\n",
    "zt.allmeasures(interpolate=True)\n",
    "zt.nominal_auc()\n",
    "zt.getBounds()\n",
    "print(zt._auc)\n",
    "\n",
    "zt.get().tpr.plot()"
   ]
  },
  {
   "cell_type": "code",
   "execution_count": null,
   "metadata": {},
   "outputs": [],
   "source": [
    "zt.smooth(STEP=0.001,interpolate=False)\n",
    "\n",
    "zt.get()"
   ]
  },
  {
   "cell_type": "code",
   "execution_count": null,
   "metadata": {
    "scrolled": false
   },
   "outputs": [],
   "source": [
    "import zedstat \n",
    "import pylab as plt\n",
    "plt.style.use('ggplot')\n",
    "zt=zedstat.processRoc(df=pd.read_csv('/home/ishanu/Dropbox/gibbons_global/code/roc_cat.csv',index_col=0),\n",
    "           order=3, \n",
    "           total_samples=502+470,\n",
    "           positive_samples=470,\n",
    "           alpha=0.01,\n",
    "           prevalence=470/(502+470))\n",
    "zt.smooth(STEP=0.001,interpolate=False)\n",
    "zt.allmeasures(interpolate=True)\n",
    "#print('-----')\n",
    "#display(zt.get())\n",
    "zt.usample(precision=3)\n",
    "#print('-----xxxxx')\n",
    "#display(zt.get())\n",
    "zt.getBounds()\n",
    "#print('-----wwwww')\n",
    "#display(zt.get())\n",
    "\n",
    "ax=plt.gca()\n",
    "ax=zt.get().tpr.plot(ax=ax,color='k')\n",
    "plt.fill_between(x=zt.get().index, y1=zt.df_lim['U'].tpr,y2=zt.df_lim['L'].tpr, color='k',alpha=.2)\n",
    "ax.set_xlim(0,1)\n",
    "ax.set_ylim(0,1)\n",
    "ax.set_ylabel('tpr');"
   ]
  },
  {
   "cell_type": "code",
   "execution_count": null,
   "metadata": {},
   "outputs": [],
   "source": [
    "zt.get()"
   ]
  },
  {
   "cell_type": "code",
   "execution_count": null,
   "metadata": {},
   "outputs": [],
   "source": [
    "zt.auc()"
   ]
  },
  {
   "cell_type": "code",
   "execution_count": null,
   "metadata": {},
   "outputs": [],
   "source": [
    "zt.get()"
   ]
  },
  {
   "cell_type": "code",
   "execution_count": null,
   "metadata": {},
   "outputs": [],
   "source": [
    "zt.get().tpr.plot()"
   ]
  },
  {
   "cell_type": "code",
   "execution_count": null,
   "metadata": {},
   "outputs": [],
   "source": [
    "xf=zt.get()\n",
    "xf.ppv[xf.ppv>1]=1\n",
    "xf\n"
   ]
  },
  {
   "cell_type": "code",
   "execution_count": null,
   "metadata": {},
   "outputs": [],
   "source": [
    "from scipy.stats import norm"
   ]
  },
  {
   "cell_type": "code",
   "execution_count": null,
   "metadata": {},
   "outputs": [],
   "source": [
    "alpha=0.05\n",
    "zval=1.96\n",
    "\n",
    "2*(1-norm.cdf(1.96))"
   ]
  },
  {
   "cell_type": "code",
   "execution_count": null,
   "metadata": {},
   "outputs": [],
   "source": [
    "n_sided=1\n",
    "norm.ppf(1-alpha/n_sided)"
   ]
  },
  {
   "cell_type": "code",
   "execution_count": 1,
   "metadata": {},
   "outputs": [],
   "source": [
    "from rrci import rrci"
   ]
  },
  {
   "cell_type": "code",
   "execution_count": 2,
   "metadata": {},
   "outputs": [
    {
     "data": {
      "text/plain": [
       "(0.1069695204814599, 0.0, 0.5635540515499134)"
      ]
     },
     "execution_count": 2,
     "metadata": {},
     "output_type": "execute_result"
    }
   ],
   "source": [
    "#rrci(epos=10,eneg=100,cpos=100,cneg=1000,alpha=0.05)\n",
    "rrci(epos=0,eneg=100,cpos=100,cneg=1000,alpha=0.05,ZERO_POLICY='ADDONE')\n"
   ]
  },
  {
   "cell_type": "code",
   "execution_count": null,
   "metadata": {},
   "outputs": [],
   "source": []
  }
 ],
 "metadata": {
  "kernelspec": {
   "display_name": "Python 3 (ipykernel)",
   "language": "python",
   "name": "python3"
  },
  "language_info": {
   "codemirror_mode": {
    "name": "ipython",
    "version": 3
   },
   "file_extension": ".py",
   "mimetype": "text/x-python",
   "name": "python",
   "nbconvert_exporter": "python",
   "pygments_lexer": "ipython3",
   "version": "3.7.5"
  }
 },
 "nbformat": 4,
 "nbformat_minor": 4
}
