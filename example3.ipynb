{
 "cells": [
  {
   "cell_type": "code",
   "execution_count": 1,
   "metadata": {},
   "outputs": [],
   "source": [
    "import sys\n",
    "import os.path\n",
    "import pylab as plt\n",
    "from zedstat import zedstat \n",
    "import pandas as pd\n",
    "plt.style.use('fivethirtyeight')"
   ]
  },
  {
   "cell_type": "code",
   "execution_count": 2,
   "metadata": {},
   "outputs": [],
   "source": [
    "#\n",
    "# order is order of spline used for smoothing\n",
    "# alpha is significance level\n",
    "# prevalence is prevalence of positive class\n",
    "# \n",
    "zt=zedstat.processRoc(df=pd.read_csv('/home/ishanu/ZED/Research/publications/pub_pf_/data_broad/ROC/M.csv'),\n",
    "           order=3, \n",
    "           total_samples=1000,\n",
    "           positive_samples=470,\n",
    "           alpha=0.01,\n",
    "           prevalence=.5)"
   ]
  },
  {
   "cell_type": "code",
   "execution_count": 3,
   "metadata": {},
   "outputs": [],
   "source": [
    "# compute smoothened roc and other performance measures\n",
    "zt.smooth(STEP=0.001)\n",
    "zt.allmeasures(interpolate=False)\n",
    "zt.usample(precision=3)\n",
    "zt.getBounds()"
   ]
  },
  {
   "cell_type": "code",
   "execution_count": 4,
   "metadata": {},
   "outputs": [
    {
     "data": {
      "image/png": "[encoded data removed]",
      "text/plain": [
       "<Figure size 432x288 with 1 Axes>"
      ]
     },
     "metadata": {
      "needs_background": "light"
     },
     "output_type": "display_data"
    }
   ],
   "source": [
    "ax=plt.gca()\n",
    "ax=zt.get().tpr.plot(ax=ax,color='k')\n",
    "plt.fill_between(x=zt.get().index, y1=zt.df_lim['U'].tpr,y2=zt.df_lim['L'].tpr, color='k',alpha=.2)\n",
    "ax.set_xlim(0,1)\n",
    "ax.set_ylim(0,1)\n",
    "ax.set_ylabel('tpr');"
   ]
  },
  {
   "cell_type": "code",
   "execution_count": 5,
   "metadata": {},
   "outputs": [
    {
     "data": {
      "text/plain": [
       "(0.8808503350707372, 0.9111675865365443, 0.8505330836049301)"
      ]
     },
     "execution_count": 5,
     "metadata": {},
     "output_type": "execute_result"
    }
   ],
   "source": [
    "zt.auc()"
   ]
  },
  {
   "cell_type": "code",
   "execution_count": 6,
   "metadata": {},
   "outputs": [
    {
     "data": {
      "text/html": [
       "<div>\n",
       "<style scoped>\n",
       "    .dataframe tbody tr th:only-of-type {\n",
       "        vertical-align: middle;\n",
       "    }\n",
       "\n",
       "    .dataframe tbody tr th {\n",
       "        vertical-align: top;\n",
       "    }\n",
       "\n",
       "    .dataframe thead th {\n",
       "        text-align: right;\n",
       "    }\n",
       "</style>\n",
       "<table border=\"1\" class=\"dataframe\">\n",
       "  <thead>\n",
       "    <tr style=\"text-align: right;\">\n",
       "      <th></th>\n",
       "      <th>tpr</th>\n",
       "      <th>ppv</th>\n",
       "      <th>acc</th>\n",
       "      <th>npv</th>\n",
       "      <th>LR+</th>\n",
       "      <th>LR-</th>\n",
       "      <th>threshold</th>\n",
       "    </tr>\n",
       "    <tr>\n",
       "      <th>fpr</th>\n",
       "      <th></th>\n",
       "      <th></th>\n",
       "      <th></th>\n",
       "      <th></th>\n",
       "      <th></th>\n",
       "      <th></th>\n",
       "      <th></th>\n",
       "    </tr>\n",
       "  </thead>\n",
       "  <tbody>\n",
       "    <tr>\n",
       "      <th>0.000</th>\n",
       "      <td>0.000000</td>\n",
       "      <td>NaN</td>\n",
       "      <td>0.500000</td>\n",
       "      <td>0.500000</td>\n",
       "      <td>NaN</td>\n",
       "      <td>1.000000</td>\n",
       "      <td>1.470513</td>\n",
       "    </tr>\n",
       "    <tr>\n",
       "      <th>0.001</th>\n",
       "      <td>0.158600</td>\n",
       "      <td>0.990710</td>\n",
       "      <td>0.578553</td>\n",
       "      <td>0.543118</td>\n",
       "      <td>106.661105</td>\n",
       "      <td>0.842633</td>\n",
       "      <td>0.300871</td>\n",
       "    </tr>\n",
       "    <tr>\n",
       "      <th>0.002</th>\n",
       "      <td>0.240879</td>\n",
       "      <td>0.989851</td>\n",
       "      <td>0.619193</td>\n",
       "      <td>0.568030</td>\n",
       "      <td>98.044597</td>\n",
       "      <td>0.761003</td>\n",
       "      <td>0.231661</td>\n",
       "    </tr>\n",
       "    <tr>\n",
       "      <th>0.003</th>\n",
       "      <td>0.291884</td>\n",
       "      <td>0.988242</td>\n",
       "      <td>0.644196</td>\n",
       "      <td>0.584673</td>\n",
       "      <td>84.529269</td>\n",
       "      <td>0.710587</td>\n",
       "      <td>0.165166</td>\n",
       "    </tr>\n",
       "    <tr>\n",
       "      <th>0.004</th>\n",
       "      <td>0.319806</td>\n",
       "      <td>0.986215</td>\n",
       "      <td>0.657663</td>\n",
       "      <td>0.594100</td>\n",
       "      <td>72.044354</td>\n",
       "      <td>0.683251</td>\n",
       "      <td>0.112554</td>\n",
       "    </tr>\n",
       "    <tr>\n",
       "      <th>...</th>\n",
       "      <td>...</td>\n",
       "      <td>...</td>\n",
       "      <td>...</td>\n",
       "      <td>...</td>\n",
       "      <td>...</td>\n",
       "      <td>...</td>\n",
       "      <td>...</td>\n",
       "    </tr>\n",
       "    <tr>\n",
       "      <th>0.996</th>\n",
       "      <td>0.999876</td>\n",
       "      <td>0.500945</td>\n",
       "      <td>0.501867</td>\n",
       "      <td>0.968835</td>\n",
       "      <td>1.003822</td>\n",
       "      <td>0.032167</td>\n",
       "      <td>0.001352</td>\n",
       "    </tr>\n",
       "    <tr>\n",
       "      <th>0.997</th>\n",
       "      <td>0.999907</td>\n",
       "      <td>0.500709</td>\n",
       "      <td>0.501400</td>\n",
       "      <td>0.968835</td>\n",
       "      <td>1.002867</td>\n",
       "      <td>0.032167</td>\n",
       "      <td>0.001352</td>\n",
       "    </tr>\n",
       "    <tr>\n",
       "      <th>0.998</th>\n",
       "      <td>0.999938</td>\n",
       "      <td>0.500472</td>\n",
       "      <td>0.500933</td>\n",
       "      <td>0.968835</td>\n",
       "      <td>1.001911</td>\n",
       "      <td>0.032167</td>\n",
       "      <td>0.001352</td>\n",
       "    </tr>\n",
       "    <tr>\n",
       "      <th>0.999</th>\n",
       "      <td>0.999969</td>\n",
       "      <td>0.500236</td>\n",
       "      <td>0.500467</td>\n",
       "      <td>0.968835</td>\n",
       "      <td>1.000956</td>\n",
       "      <td>0.032167</td>\n",
       "      <td>0.001352</td>\n",
       "    </tr>\n",
       "    <tr>\n",
       "      <th>1.000</th>\n",
       "      <td>1.000000</td>\n",
       "      <td>0.500000</td>\n",
       "      <td>0.500000</td>\n",
       "      <td>0.968835</td>\n",
       "      <td>1.000000</td>\n",
       "      <td>0.032167</td>\n",
       "      <td>0.001351</td>\n",
       "    </tr>\n",
       "  </tbody>\n",
       "</table>\n",
       "<p>1001 rows × 7 columns</p>\n",
       "</div>"
      ],
      "text/plain": [
       "            tpr       ppv       acc       npv         LR+       LR-  threshold\n",
       "fpr                                                                           \n",
       "0.000  0.000000       NaN  0.500000  0.500000         NaN  1.000000   1.470513\n",
       "0.001  0.158600  0.990710  0.578553  0.543118  106.661105  0.842633   0.300871\n",
       "0.002  0.240879  0.989851  0.619193  0.568030   98.044597  0.761003   0.231661\n",
       "0.003  0.291884  0.988242  0.644196  0.584673   84.529269  0.710587   0.165166\n",
       "0.004  0.319806  0.986215  0.657663  0.594100   72.044354  0.683251   0.112554\n",
       "...         ...       ...       ...       ...         ...       ...        ...\n",
       "0.996  0.999876  0.500945  0.501867  0.968835    1.003822  0.032167   0.001352\n",
       "0.997  0.999907  0.500709  0.501400  0.968835    1.002867  0.032167   0.001352\n",
       "0.998  0.999938  0.500472  0.500933  0.968835    1.001911  0.032167   0.001352\n",
       "0.999  0.999969  0.500236  0.500467  0.968835    1.000956  0.032167   0.001352\n",
       "1.000  1.000000  0.500000  0.500000  0.968835    1.000000  0.032167   0.001351\n",
       "\n",
       "[1001 rows x 7 columns]"
      ]
     },
     "execution_count": 6,
     "metadata": {},
     "output_type": "execute_result"
    }
   ],
   "source": [
    "zt.get()"
   ]
  },
  {
   "cell_type": "code",
   "execution_count": 7,
   "metadata": {},
   "outputs": [
    {
     "data": {
      "text/html": [
       "<div>\n",
       "<style scoped>\n",
       "    .dataframe tbody tr th:only-of-type {\n",
       "        vertical-align: middle;\n",
       "    }\n",
       "\n",
       "    .dataframe tbody tr th {\n",
       "        vertical-align: top;\n",
       "    }\n",
       "\n",
       "    .dataframe thead th {\n",
       "        text-align: right;\n",
       "    }\n",
       "</style>\n",
       "<table border=\"1\" class=\"dataframe\">\n",
       "  <thead>\n",
       "    <tr style=\"text-align: right;\">\n",
       "      <th></th>\n",
       "      <th>fpr</th>\n",
       "      <th>tpr</th>\n",
       "      <th>ppv</th>\n",
       "      <th>acc</th>\n",
       "      <th>npv</th>\n",
       "      <th>LR+</th>\n",
       "      <th>LR-</th>\n",
       "      <th>threshold</th>\n",
       "    </tr>\n",
       "  </thead>\n",
       "  <tbody>\n",
       "    <tr>\n",
       "      <th>high precision</th>\n",
       "      <td>0.001</td>\n",
       "      <td>0.158600</td>\n",
       "      <td>0.990710</td>\n",
       "      <td>0.578553</td>\n",
       "      <td>0.543118</td>\n",
       "      <td>106.661105</td>\n",
       "      <td>0.842633</td>\n",
       "      <td>0.300871</td>\n",
       "    </tr>\n",
       "    <tr>\n",
       "      <th>high sensitivity</th>\n",
       "      <td>0.198</td>\n",
       "      <td>0.796314</td>\n",
       "      <td>0.800254</td>\n",
       "      <td>0.798743</td>\n",
       "      <td>0.797345</td>\n",
       "      <td>4.008419</td>\n",
       "      <td>0.254188</td>\n",
       "      <td>0.005731</td>\n",
       "    </tr>\n",
       "  </tbody>\n",
       "</table>\n",
       "</div>"
      ],
      "text/plain": [
       "                    fpr       tpr       ppv       acc       npv         LR+  \\\n",
       "high precision    0.001  0.158600  0.990710  0.578553  0.543118  106.661105   \n",
       "high sensitivity  0.198  0.796314  0.800254  0.798743  0.797345    4.008419   \n",
       "\n",
       "                       LR-  threshold  \n",
       "high precision    0.842633   0.300871  \n",
       "high sensitivity  0.254188   0.005731  "
      ]
     },
     "metadata": {},
     "output_type": "display_data"
    },
    {
     "name": "stdout",
     "output_type": "stream",
     "text": [
      "            tpr       ppv       acc       npv         LR+       LR-  threshold\n",
      "fpr                                                                           \n",
      "0.000  0.000000       NaN  0.500000  0.500000         NaN  1.000000   1.470513\n",
      "0.001  0.158600  0.990710  0.578553  0.543118  106.661105  0.842633   0.300871\n",
      "0.002  0.240879  0.989851  0.619193  0.568030   98.044597  0.761003   0.231661\n",
      "0.003  0.291884  0.988242  0.644196  0.584673   84.529269  0.710587   0.165166\n",
      "0.004  0.319806  0.986215  0.657663  0.594100   72.044354  0.683251   0.112554\n",
      "...         ...       ...       ...       ...         ...       ...        ...\n",
      "0.996  0.999876  0.500945  0.501867  0.968835    1.003822  0.032167   0.001352\n",
      "0.997  0.999907  0.500709  0.501400  0.968835    1.002867  0.032167   0.001352\n",
      "0.998  0.999938  0.500472  0.500933  0.968835    1.001911  0.032167   0.001352\n",
      "0.999  0.999969  0.500236  0.500467  0.968835    1.000956  0.032167   0.001352\n",
      "1.000  1.000000  0.500000  0.500000  0.968835    1.000000  0.032167   0.001351\n",
      "\n",
      "[1001 rows x 7 columns]\n",
      "----bdhdhdhdhdhdhdhdhdhdhd\n",
      "            tpr       ppv       acc       npv        LR+       LR-  threshold\n",
      "fpr                                                                          \n",
      "0.000  0.000000       NaN  0.500000  0.500000        NaN  1.000000   1.470513\n",
      "0.001       NaN       NaN       NaN       NaN        NaN       NaN        NaN\n",
      "0.002  0.240879  0.989851  0.619193  0.568030  98.044597  0.761003   0.231661\n",
      "0.003  0.291884  0.988242  0.644196  0.584673  84.529269  0.710587   0.165166\n",
      "0.004  0.319806  0.986215  0.657663  0.594100  72.044354  0.683251   0.112554\n",
      "...         ...       ...       ...       ...        ...       ...        ...\n",
      "0.996  0.999876  0.500945  0.501867  0.968835   1.003822  0.032167   0.001352\n",
      "0.997  0.999907  0.500709  0.501400  0.968835   1.002867  0.032167   0.001352\n",
      "0.998  0.999938  0.500472  0.500933  0.968835   1.001911  0.032167   0.001352\n",
      "0.999  0.999969  0.500236  0.500467  0.968835   1.000956  0.032167   0.001352\n",
      "1.000  1.000000  0.500000  0.500000  0.968835   1.000000  0.032167   0.001351\n",
      "\n",
      "[1001 rows x 7 columns]\n",
      "100 nan nan nan nan nan 200.0\n"
     ]
    },
    {
     "ename": "ValueError",
     "evalue": "cannot convert float NaN to integer",
     "output_type": "error",
     "traceback": [
      "\u001b[0;31m---------------------------------------------------------------------------\u001b[0m",
      "\u001b[0;31mValueError\u001b[0m                                Traceback (most recent call last)",
      "\u001b[0;32m/tmp/ipykernel_2011360/2336470919.py\u001b[0m in \u001b[0;36m<module>\u001b[0;34m\u001b[0m\n\u001b[1;32m      1\u001b[0m \u001b[0mzt\u001b[0m\u001b[0;34m.\u001b[0m\u001b[0moperating_zone\u001b[0m\u001b[0;34m(\u001b[0m\u001b[0mLRminus\u001b[0m\u001b[0;34m=\u001b[0m\u001b[0;36m.95\u001b[0m\u001b[0;34m,\u001b[0m\u001b[0mLRplus\u001b[0m\u001b[0;34m=\u001b[0m\u001b[0;36m4\u001b[0m\u001b[0;34m)\u001b[0m\u001b[0;34m\u001b[0m\u001b[0;34m\u001b[0m\u001b[0m\n\u001b[1;32m      2\u001b[0m \u001b[0mdisplay\u001b[0m\u001b[0;34m(\u001b[0m\u001b[0mzt\u001b[0m\u001b[0;34m.\u001b[0m\u001b[0m_operating_zone\u001b[0m\u001b[0;34m)\u001b[0m\u001b[0;34m\u001b[0m\u001b[0;34m\u001b[0m\u001b[0m\n\u001b[0;32m----> 3\u001b[0;31m \u001b[0mrf0\u001b[0m\u001b[0;34m,\u001b[0m\u001b[0mtxt0\u001b[0m\u001b[0;34m=\u001b[0m\u001b[0mzt\u001b[0m\u001b[0;34m.\u001b[0m\u001b[0minterpret\u001b[0m\u001b[0;34m(\u001b[0m\u001b[0mfpr\u001b[0m\u001b[0;34m=\u001b[0m\u001b[0mzt\u001b[0m\u001b[0;34m.\u001b[0m\u001b[0m_operating_zone\u001b[0m\u001b[0;34m.\u001b[0m\u001b[0mfpr\u001b[0m\u001b[0;34m.\u001b[0m\u001b[0mvalues\u001b[0m\u001b[0;34m[\u001b[0m\u001b[0;36m0\u001b[0m\u001b[0;34m]\u001b[0m\u001b[0;34m,\u001b[0m\u001b[0mnumber_of_positives\u001b[0m\u001b[0;34m=\u001b[0m\u001b[0;36m100\u001b[0m\u001b[0;34m)\u001b[0m\u001b[0;34m\u001b[0m\u001b[0;34m\u001b[0m\u001b[0m\n\u001b[0m\u001b[1;32m      4\u001b[0m \u001b[0mrf1\u001b[0m\u001b[0;34m,\u001b[0m\u001b[0mtxt1\u001b[0m\u001b[0;34m=\u001b[0m\u001b[0mzt\u001b[0m\u001b[0;34m.\u001b[0m\u001b[0minterpret\u001b[0m\u001b[0;34m(\u001b[0m\u001b[0mfpr\u001b[0m\u001b[0;34m=\u001b[0m\u001b[0mzt\u001b[0m\u001b[0;34m.\u001b[0m\u001b[0m_operating_zone\u001b[0m\u001b[0;34m.\u001b[0m\u001b[0mfpr\u001b[0m\u001b[0;34m.\u001b[0m\u001b[0mvalues\u001b[0m\u001b[0;34m[\u001b[0m\u001b[0;36m1\u001b[0m\u001b[0;34m]\u001b[0m\u001b[0;34m,\u001b[0m\u001b[0mnumber_of_positives\u001b[0m\u001b[0;34m=\u001b[0m\u001b[0;36m100\u001b[0m\u001b[0;34m)\u001b[0m\u001b[0;34m\u001b[0m\u001b[0;34m\u001b[0m\u001b[0m\n\u001b[1;32m      5\u001b[0m \u001b[0mprint\u001b[0m\u001b[0;34m(\u001b[0m\u001b[0;34m'high precision operation:\\n'\u001b[0m\u001b[0;34m,\u001b[0m\u001b[0;34m'\\n '\u001b[0m\u001b[0;34m.\u001b[0m\u001b[0mjoin\u001b[0m\u001b[0;34m(\u001b[0m\u001b[0mtxt0\u001b[0m\u001b[0;34m)\u001b[0m\u001b[0;34m)\u001b[0m\u001b[0;34m\u001b[0m\u001b[0;34m\u001b[0m\u001b[0m\n",
      "\u001b[0;32m~/ZED/Research/zedstat/zedstat/zedstat.py\u001b[0m in \u001b[0;36minterpret\u001b[0;34m(self, fpr, number_of_positives)\u001b[0m\n\u001b[1;32m    593\u001b[0m \u001b[0;34m\u001b[0m\u001b[0m\n\u001b[1;32m    594\u001b[0m         rf=pd.DataFrame({'pos':np.round(POS),\n\u001b[0;32m--> 595\u001b[0;31m                       \u001b[0;34m'flags'\u001b[0m\u001b[0;34m:\u001b[0m\u001b[0mint\u001b[0m\u001b[0;34m(\u001b[0m\u001b[0mnp\u001b[0m\u001b[0;34m.\u001b[0m\u001b[0mround\u001b[0m\u001b[0;34m(\u001b[0m\u001b[0mTOTALFLAGS\u001b[0m\u001b[0;34m)\u001b[0m\u001b[0;34m)\u001b[0m\u001b[0;34m,\u001b[0m\u001b[0;34m\u001b[0m\u001b[0;34m\u001b[0m\u001b[0m\n\u001b[0m\u001b[1;32m    596\u001b[0m                       \u001b[0;34m'tp'\u001b[0m\u001b[0;34m:\u001b[0m\u001b[0mint\u001b[0m\u001b[0;34m(\u001b[0m\u001b[0mnp\u001b[0m\u001b[0;34m.\u001b[0m\u001b[0mround\u001b[0m\u001b[0;34m(\u001b[0m\u001b[0mTP\u001b[0m\u001b[0;34m)\u001b[0m\u001b[0;34m)\u001b[0m\u001b[0;34m,\u001b[0m\u001b[0;34m\u001b[0m\u001b[0;34m\u001b[0m\u001b[0m\n\u001b[1;32m    597\u001b[0m                       \u001b[0;34m'fp'\u001b[0m\u001b[0;34m:\u001b[0m\u001b[0mint\u001b[0m\u001b[0;34m(\u001b[0m\u001b[0mnp\u001b[0m\u001b[0;34m.\u001b[0m\u001b[0mround\u001b[0m\u001b[0;34m(\u001b[0m\u001b[0mFP\u001b[0m\u001b[0;34m)\u001b[0m\u001b[0;34m)\u001b[0m\u001b[0;34m,\u001b[0m\u001b[0;34m\u001b[0m\u001b[0;34m\u001b[0m\u001b[0m\n",
      "\u001b[0;31mValueError\u001b[0m: cannot convert float NaN to integer"
     ]
    }
   ],
   "source": [
    "zt.operating_zone(LRminus=.95,LRplus=4)\n",
    "display(zt._operating_zone)\n",
    "rf0,txt0=zt.interpret(fpr=zt._operating_zone.fpr.values[0],number_of_positives=100)\n",
    "rf1,txt1=zt.interpret(fpr=zt._operating_zone.fpr.values[1],number_of_positives=100)\n",
    "print('high precision operation:\\n','\\n '.join(txt0))\n",
    "print('\\n')\n",
    "print('high recall operation:\\n','\\n '.join(txt1))"
   ]
  },
  {
   "cell_type": "markdown",
   "metadata": {},
   "source": [
    "## writing tables to latex"
   ]
  },
  {
   "cell_type": "code",
   "execution_count": null,
   "metadata": {},
   "outputs": [],
   "source": [
    "from zedstat.textable import textable\n",
    "#textable(zt.get(),tabname='table.tex',FORMAT='%1.1f',TABFORMAT='L{1in}|L{1in}|L{1in}|L{1in}|L{1in}|L{1in}|L{1in}|L{1in}',LNTERM='\\\\\\\\\\n')"
   ]
  },
  {
   "cell_type": "code",
   "execution_count": null,
   "metadata": {},
   "outputs": [],
   "source": [
    "#pd.options.display.html.use_mathjax = False\n",
    "from zedstat.textable import tablewithbounds\n",
    "xf=tablewithbounds(zt.get(),zt.usample(zt.df_lim['U']),zt.usample(zt.df_lim['L']))#.to_csv('table.csv')\n",
    "xf.loc[zt._operating_zone.fpr.values]"
   ]
  },
  {
   "cell_type": "code",
   "execution_count": null,
   "metadata": {},
   "outputs": [],
   "source": [
    "from zedstat.textable import textable\n",
    "#textable(xf,tabname='tmp.tex',FORMAT='%1.3f',INDEX=True,LNTERM='\\\\\\\\\\\\hline\\n')     "
   ]
  },
  {
   "cell_type": "code",
   "execution_count": null,
   "metadata": {},
   "outputs": [],
   "source": []
  }
 ],
 "metadata": {
  "kernelspec": {
   "display_name": "Python 3 (ipykernel)",
   "language": "python",
   "name": "python3"
  },
  "language_info": {
   "codemirror_mode": {
    "name": "ipython",
    "version": 3
   },
   "file_extension": ".py",
   "mimetype": "text/x-python",
   "name": "python",
   "nbconvert_exporter": "python",
   "pygments_lexer": "ipython3",
   "version": "3.10.6"
  }
 },
 "nbformat": 4,
 "nbformat_minor": 4
}
