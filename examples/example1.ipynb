{
 "cells": [
  {
   "cell_type": "code",
   "execution_count": 1,
   "metadata": {},
   "outputs": [],
   "source": [
    "import sys\n",
    "import os.path\n",
    "import pylab as plt\n",
    "from zedstat import zedstat \n",
    "import pandas as pd\n",
    "plt.style.use('fivethirtyeight')"
   ]
  },
  {
   "cell_type": "code",
   "execution_count": 2,
   "metadata": {},
   "outputs": [
    {
     "ename": "NameError",
     "evalue": "name 'random_state' is not defined",
     "output_type": "error",
     "traceback": [
      "\u001b[0;31m---------------------------------------------------------------------------\u001b[0m",
      "\u001b[0;31mNameError\u001b[0m                                 Traceback (most recent call last)",
      "\u001b[0;32m/tmp/ipykernel_927166/745334296.py\u001b[0m in \u001b[0;36m<module>\u001b[0;34m\u001b[0m\n\u001b[1;32m      4\u001b[0m \u001b[0;31m# prevalence is prevalence of positive class\u001b[0m\u001b[0;34m\u001b[0m\u001b[0;34m\u001b[0m\u001b[0m\n\u001b[1;32m      5\u001b[0m \u001b[0;31m#\u001b[0m\u001b[0;34m\u001b[0m\u001b[0;34m\u001b[0m\u001b[0m\n\u001b[0;32m----> 6\u001b[0;31m zt=zedstat.processRoc(df=pd.read_csv('examples_data/roc2.csv'),\n\u001b[0m\u001b[1;32m      7\u001b[0m            \u001b[0morder\u001b[0m\u001b[0;34m=\u001b[0m\u001b[0;36m3\u001b[0m\u001b[0;34m,\u001b[0m\u001b[0;34m\u001b[0m\u001b[0;34m\u001b[0m\u001b[0m\n\u001b[1;32m      8\u001b[0m            \u001b[0mtotal_samples\u001b[0m\u001b[0;34m=\u001b[0m\u001b[0;36m100000\u001b[0m\u001b[0;34m,\u001b[0m\u001b[0;34m\u001b[0m\u001b[0;34m\u001b[0m\u001b[0m\n",
      "\u001b[0;32m~/.local/lib/python3.10/site-packages/zedstat/zedstat.py\u001b[0m in \u001b[0;36m__init__\u001b[0;34m(self, df, fprcol, tprcol, thresholdcol, prevalence, order, total_samples, positive_samples, alpha)\u001b[0m\n\u001b[1;32m     48\u001b[0m         \u001b[0mself\u001b[0m\u001b[0;34m.\u001b[0m\u001b[0mfprcol\u001b[0m \u001b[0;34m=\u001b[0m \u001b[0mfprcol\u001b[0m\u001b[0;34m\u001b[0m\u001b[0;34m\u001b[0m\u001b[0m\n\u001b[1;32m     49\u001b[0m         \u001b[0mself\u001b[0m\u001b[0;34m.\u001b[0m\u001b[0mtprcol\u001b[0m \u001b[0;34m=\u001b[0m \u001b[0mtprcol\u001b[0m\u001b[0;34m\u001b[0m\u001b[0;34m\u001b[0m\u001b[0m\n\u001b[0;32m---> 50\u001b[0;31m         \u001b[0mself\u001b[0m\u001b[0;34m.\u001b[0m\u001b[0mrandom_state\u001b[0m \u001b[0;34m=\u001b[0m \u001b[0mrandom_state\u001b[0m\u001b[0;34m\u001b[0m\u001b[0;34m\u001b[0m\u001b[0m\n\u001b[0m\u001b[1;32m     51\u001b[0m         \u001b[0mself\u001b[0m\u001b[0;34m.\u001b[0m\u001b[0mraw_df\u001b[0m \u001b[0;34m=\u001b[0m \u001b[0mself\u001b[0m\u001b[0;34m.\u001b[0m\u001b[0mdf\u001b[0m\u001b[0;34m.\u001b[0m\u001b[0mcopy\u001b[0m\u001b[0;34m(\u001b[0m\u001b[0;34m)\u001b[0m\u001b[0;34m\u001b[0m\u001b[0;34m\u001b[0m\u001b[0m\n\u001b[1;32m     52\u001b[0m         \u001b[0mself\u001b[0m\u001b[0;34m.\u001b[0m\u001b[0mprevalence\u001b[0m \u001b[0;34m=\u001b[0m \u001b[0mprevalence\u001b[0m\u001b[0;34m\u001b[0m\u001b[0;34m\u001b[0m\u001b[0m\n",
      "\u001b[0;31mNameError\u001b[0m: name 'random_state' is not defined"
     ]
    }
   ],
   "source": [
    "#\n",
    "# order is order of spline used for smoothing\n",
    "# alpha is significance level\n",
    "# prevalence is prevalence of positive class\n",
    "# \n",
    "zt=zedstat.processRoc(df=pd.read_csv('examples_data/roc2.csv'),\n",
    "           order=3, \n",
    "           total_samples=100000,\n",
    "           positive_samples=100,\n",
    "           alpha=0.01,\n",
    "           prevalence=.002)"
   ]
  },
  {
   "cell_type": "code",
   "execution_count": null,
   "metadata": {},
   "outputs": [],
   "source": [
    "# compute smoothened roc and other performance measures\n",
    "zt.smooth(STEP=0.001)\n",
    "zt.allmeasures(interpolate=True)\n",
    "zt.usample(precision=3)\n",
    "zt.getBounds()"
   ]
  },
  {
   "cell_type": "code",
   "execution_count": null,
   "metadata": {},
   "outputs": [],
   "source": [
    "ax=plt.gca()\n",
    "ax=zt.get().tpr.plot(ax=ax,color='k')\n",
    "plt.fill_between(x=zt.get().index, y1=zt.df_lim['U'].tpr,y2=zt.df_lim['L'].tpr, color='k',alpha=.2)\n",
    "ax.set_xlim(0,1)\n",
    "ax.set_ylim(0,1)\n",
    "ax.set_ylabel('tpr');"
   ]
  },
  {
   "cell_type": "code",
   "execution_count": null,
   "metadata": {},
   "outputs": [],
   "source": [
    "ax=plt.gca()\n",
    "ax=zt.get().plot(ax=ax,x='tpr',y='ppv',color='k')\n",
    "plt.fill_between(x=zt.get()['tpr'], y1=zt.df_lim['U'].ppv,y2=zt.df_lim['L'].ppv, color='k',alpha=.2)\n",
    "ax.set_xlim(0,1)\n",
    "ax.set_ylim(0,1)"
   ]
  },
  {
   "cell_type": "code",
   "execution_count": null,
   "metadata": {
    "scrolled": true
   },
   "outputs": [],
   "source": [
    "# compute auc with confidence bounds\n",
    "zt.auc(alpha=.05)"
   ]
  },
  {
   "cell_type": "code",
   "execution_count": null,
   "metadata": {},
   "outputs": [],
   "source": [
    "# required sample size\n",
    "zt.samplesize(delta_auc=.05)"
   ]
  },
  {
   "cell_type": "code",
   "execution_count": null,
   "metadata": {
    "scrolled": true
   },
   "outputs": [],
   "source": [
    "import numpy as np\n",
    "pd.DataFrame(np.array([zt.samplesize(delta_auc=a) \n",
    "                       for a in np.arange(.05,.1,.001)]),\n",
    "             np.arange(.05,.1,.001)).plot(logy=True)\n",
    "plt.gca().set_xlabel('delta AUC')\n",
    "plt.gca().set_ylabel('minimum samples');"
   ]
  },
  {
   "cell_type": "code",
   "execution_count": null,
   "metadata": {},
   "outputs": [],
   "source": [
    "pd.DataFrame([zt.pvalue(delta_auc=a) for a in np.arange(0.001,.1,.001)],\n",
    "             np.arange(0.001,.1,.001)).plot()\n",
    "plt.gca().set_ylim(0,0.05)   \n",
    "#plt.gca().set_xlim(0.0196,0.035)   \n",
    "plt.gca().set_xlabel('delta AUC')\n",
    "plt.gca().set_ylabel('pvalue');"
   ]
  },
  {
   "cell_type": "code",
   "execution_count": null,
   "metadata": {},
   "outputs": [],
   "source": [
    "zt.operating_zone(LRminus=.65)\n",
    "rf0,txt0=zt.interpret(fpr=zt._operating_zone.fpr.values[0],number_of_positives=10)\n",
    "rf1,txt1=zt.interpret(fpr=zt._operating_zone.fpr.values[1],number_of_positives=10)\n",
    "display(zt._operating_zone)\n",
    "print('high precision operation:\\n','\\n '.join(txt0))\n",
    "print('\\n')\n",
    "print('high recall operation:\\n','\\n '.join(txt1))"
   ]
  },
  {
   "cell_type": "code",
   "execution_count": null,
   "metadata": {},
   "outputs": [],
   "source": [
    "#pd.options.display.html.use_mathjax = False\n",
    "from zedstat.textable import tablewithbounds\n",
    "xf=tablewithbounds(zt.get(),zt.usample(zt.df_lim['U']),zt.usample(zt.df_lim['L']))#.to_csv('table.csv')\n",
    "xf.loc[zt._operating_zone.fpr.values]"
   ]
  },
  {
   "cell_type": "code",
   "execution_count": null,
   "metadata": {},
   "outputs": [],
   "source": [
    "from zedstat.textable import textable\n",
    "textable(xf,tabname='tmp.tex',FORMAT='%1.3f',INDEX=True,LNTERM='\\\\\\\\\\\\hline\\n')     "
   ]
  },
  {
   "cell_type": "markdown",
   "metadata": {},
   "source": [
    "# Second example: From raw samples"
   ]
  },
  {
   "cell_type": "code",
   "execution_count": null,
   "metadata": {},
   "outputs": [],
   "source": [
    "pf=pd.read_csv('./examples_data/id_predictions_M_2.csv',index_col=0)\n",
    "pf"
   ]
  },
  {
   "cell_type": "code",
   "execution_count": null,
   "metadata": {},
   "outputs": [],
   "source": [
    "rf,total_samples,positive_samples=zedstat.genroc(pf,risk='predicted_risk',\n",
    "           target='target',\n",
    "           TARGET=[1])"
   ]
  },
  {
   "cell_type": "code",
   "execution_count": null,
   "metadata": {},
   "outputs": [],
   "source": [
    "rf.plot(x='fpr',y='tpr')"
   ]
  },
  {
   "cell_type": "code",
   "execution_count": null,
   "metadata": {},
   "outputs": [],
   "source": [
    "zt1=zedstat.processRoc(df=rf,\n",
    "           order=3, \n",
    "           total_samples=total_samples,\n",
    "           positive_samples=positive_samples,\n",
    "           alpha=0.05,\n",
    "           prevalence=.002)"
   ]
  },
  {
   "cell_type": "code",
   "execution_count": null,
   "metadata": {},
   "outputs": [],
   "source": [
    "zt1.smooth(STEP=0.001)\n",
    "zt1.allmeasures(interpolate=True)\n",
    "zt1.usample(precision=3)\n",
    "zt1.getBounds()\n",
    "ax=plt.gca()\n",
    "ax=zt1.get().tpr.plot(ax=ax,color='k')\n",
    "plt.fill_between(x=zt1.get().index, y1=zt1.df_lim['U'].tpr,y2=zt1.df_lim['L'].tpr, color='k',alpha=.2)\n",
    "ax.set_xlim(0,1)\n",
    "ax.set_ylim(0,1)\n",
    "ax.set_ylabel('tpr');\n",
    "print(zt1.auc(alpha=.05))"
   ]
  },
  {
   "cell_type": "code",
   "execution_count": null,
   "metadata": {},
   "outputs": [],
   "source": [
    "zt1.samplesize(delta_auc=.1)"
   ]
  },
  {
   "cell_type": "code",
   "execution_count": null,
   "metadata": {},
   "outputs": [],
   "source": []
  }
 ],
 "metadata": {
  "kernelspec": {
   "display_name": "Python 3 (ipykernel)",
   "language": "python",
   "name": "python3"
  },
  "language_info": {
   "codemirror_mode": {
    "name": "ipython",
    "version": 3
   },
   "file_extension": ".py",
   "mimetype": "text/x-python",
   "name": "python",
   "nbconvert_exporter": "python",
   "pygments_lexer": "ipython3",
   "version": "3.10.6"
  }
 },
 "nbformat": 4,
 "nbformat_minor": 4
}
