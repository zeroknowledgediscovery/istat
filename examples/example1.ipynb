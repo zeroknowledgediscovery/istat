{
 "cells": [
  {
   "cell_type": "code",
   "execution_count": 1,
   "metadata": {},
   "outputs": [],
   "source": [
    "import sys\n",
    "import os.path\n",
    "import pylab as plt\n",
    "plt.style.use('dark_background')\n",
    "#path = '../zedstat/'\n",
    "#sys.path.append(path)\n",
    "from zedstat.zedstat import zedstat\n",
    "import pandas as pd"
   ]
  },
  {
   "cell_type": "code",
   "execution_count": 2,
   "metadata": {},
   "outputs": [],
   "source": [
    "df=pd.read_csv('examples_data/roc2.csv')\n",
    "df=df.sort_values('fpr')\n",
    "#df=df.drop('threshold',axis=1)"
   ]
  },
  {
   "cell_type": "code",
   "execution_count": 3,
   "metadata": {},
   "outputs": [],
   "source": [
    "zt=zedstat(df=df,\n",
    "           order=3,\n",
    "           total_samples=100000,\n",
    "           positive_samples=1000,\n",
    "           alpha=0.1,\n",
    "           prevalence=.01)"
   ]
  },
  {
   "cell_type": "code",
   "execution_count": 4,
   "metadata": {},
   "outputs": [],
   "source": [
    "zt.smooth(STEP=0.001)\n",
    "zt.allmeasures(interpolate=True)\n",
    "zt.usample(precision=3)\n",
    "zt.getBounds()"
   ]
  },
  {
   "cell_type": "code",
   "execution_count": 5,
   "metadata": {},
   "outputs": [
    {
     "data": {
      "image/png": "[encoded data removed]",
      "text/plain": [
       "<Figure size 432x288 with 1 Axes>"
      ]
     },
     "metadata": {
      "needs_background": "dark"
     },
     "output_type": "display_data"
    }
   ],
   "source": [
    "ax=zt.df_lim['U'].tpr.plot()\n",
    "ax=zt.df_lim['L'].tpr.plot(ax=ax)\n",
    "ax=zt.get().tpr.plot(ax=ax)"
   ]
  },
  {
   "cell_type": "code",
   "execution_count": 6,
   "metadata": {},
   "outputs": [
    {
     "data": {
      "text/plain": [
       "<AxesSubplot:xlabel='LR-'>"
      ]
     },
     "execution_count": 6,
     "metadata": {},
     "output_type": "execute_result"
    },
    {
     "data": {
      "image/png": "[encoded data removed]",
      "text/plain": [
       "<Figure size 432x288 with 1 Axes>"
      ]
     },
     "metadata": {
      "needs_background": "dark"
     },
     "output_type": "display_data"
    }
   ],
   "source": [
    "zt.get().plot(x='LR-',y='LR+')"
   ]
  },
  {
   "cell_type": "code",
   "execution_count": 13,
   "metadata": {
    "scrolled": true
   },
   "outputs": [
    {
     "data": {
      "text/plain": [
       "(0.8875903790087464, 0.9068020490733194, 0.8681833153664613)"
      ]
     },
     "execution_count": 13,
     "metadata": {},
     "output_type": "execute_result"
    }
   ],
   "source": [
    "zt.auc(alpha=.02)"
   ]
  },
  {
   "cell_type": "code",
   "execution_count": 18,
   "metadata": {},
   "outputs": [
    {
     "data": {
      "text/plain": [
       "{'U': array([0.90680205, 0.91294492, 0.92469616, 0.92469616, 0.92469616,\n",
       "        0.92469616, 0.92469616]),\n",
       " 'L': array([0.86818332, 0.86640845, 0.85878801, 0.85878801, 0.85878801,\n",
       "        0.85878801, 0.85878801]),\n",
       " 'nominal': 0.8875903790087464}"
      ]
     },
     "execution_count": 18,
     "metadata": {},
     "output_type": "execute_result"
    }
   ],
   "source": [
    "zt.auc_cb2(alpha=.001)\n",
    "zt._auc"
   ]
  },
  {
   "cell_type": "code",
   "execution_count": null,
   "metadata": {},
   "outputs": [],
   "source": [
    "# required sample size\n",
    "zt.samplesize(delta_auc=.1)"
   ]
  },
  {
   "cell_type": "code",
   "execution_count": null,
   "metadata": {},
   "outputs": [],
   "source": [
    "import numpy as np\n",
    "pd.DataFrame(np.array([zt.samplesize(delta_auc=a) \n",
    "                       for a in np.arange(.05,.1,.001)]),\n",
    "             np.arange(.05,.1,.001)).plot(logy=True)\n",
    "plt.gca().set_xlabel('delta AUC')\n",
    "plt.gca().set_ylabel('minimum samples');"
   ]
  },
  {
   "cell_type": "code",
   "execution_count": null,
   "metadata": {},
   "outputs": [],
   "source": [
    "pd.DataFrame([zt.pvalue(delta_auc=a) for a in np.arange(0.001,.1,.001)],\n",
    "             np.arange(0.001,.1,.001)).plot()\n",
    "plt.gca().set_ylim(0,0.05)   \n",
    "plt.gca().set_xlim(0.0196,0.035)   \n",
    "plt.gca().set_xlabel('delta AUC')\n",
    "plt.gca().set_ylabel('pvalue');"
   ]
  },
  {
   "cell_type": "code",
   "execution_count": null,
   "metadata": {},
   "outputs": [],
   "source": [
    "zt.operating_zone(LRminus=.65)\n",
    "rf0,txt0=zt.interpret(fpr=zt._operating_zone.fpr.values[0],number_of_positives=10)\n",
    "rf1,txt1=zt.interpret(fpr=zt._operating_zone.fpr.values[1],number_of_positives=10)\n",
    "display(zt._operating_zone)\n",
    "print('high precision operation:\\n','\\n '.join(txt0))\n",
    "print('\\n')\n",
    "print('high recall operation:\\n','\\n '.join(txt1))"
   ]
  },
  {
   "cell_type": "code",
   "execution_count": null,
   "metadata": {},
   "outputs": [],
   "source": []
  }
 ],
 "metadata": {
  "kernelspec": {
   "display_name": "Python 3 (ipykernel)",
   "language": "python",
   "name": "python3"
  },
  "language_info": {
   "codemirror_mode": {
    "name": "ipython",
    "version": 3
   },
   "file_extension": ".py",
   "mimetype": "text/x-python",
   "name": "python",
   "nbconvert_exporter": "python",
   "pygments_lexer": "ipython3",
   "version": "3.10.6"
  }
 },
 "nbformat": 4,
 "nbformat_minor": 4
}
