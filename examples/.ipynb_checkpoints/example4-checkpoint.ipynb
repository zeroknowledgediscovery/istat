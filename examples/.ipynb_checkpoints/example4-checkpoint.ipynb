{
 "cells": [
  {
   "cell_type": "code",
   "execution_count": 1,
   "id": "83c9a86e",
   "metadata": {},
   "outputs": [
    {
     "name": "stdout",
     "output_type": "stream",
     "text": [
      "0.010889112863382145 0.0 0.05695711031575194\n"
     ]
    }
   ],
   "source": [
    "from zedstat.rrci import rrci\n",
    "rr,rr_lb,rr_ub=rrci(epos=0,eneg=1000,cpos=100,cneg=1000,alpha=0.05)\n",
    "print(rr,rr_lb,rr_ub)"
   ]
  },
  {
   "cell_type": "code",
   "execution_count": 3,
   "id": "8f37bf75",
   "metadata": {},
   "outputs": [
    {
     "name": "stdout",
     "output_type": "stream",
     "text": [
      "0.10891089108910891 0.0 0.18881270654675375\n"
     ]
    }
   ],
   "source": [
    "rr,rr_lb,rr_ub=rrci(epos=10,eneg=1000,cpos=100,cneg=1000,alpha=0.05)\n",
    "print(rr,rr_lb,rr_ub)"
   ]
  },
  {
   "cell_type": "code",
   "execution_count": 4,
   "id": "f8ef3822",
   "metadata": {},
   "outputs": [
    {
     "name": "stdout",
     "output_type": "stream",
     "text": [
      "1.1 0.0 1.2191463585515632\n"
     ]
    }
   ],
   "source": [
    "# do not use unless numbers are very large\n",
    "# https://www.ncbi.nlm.nih.gov/pmc/articles/PMC8196730/\n",
    "rr,rr_lb,rr_ub=rrci(epos=0,eneg=1000,cpos=100,cneg=1000,alpha=0.05,ZERO_POLICY='')\n",
    "print(rr,rr_lb,rr_ub)"
   ]
  }
 ],
 "metadata": {
  "kernelspec": {
   "display_name": "Python 3 (ipykernel)",
   "language": "python",
   "name": "python3"
  },
  "language_info": {
   "codemirror_mode": {
    "name": "ipython",
    "version": 3
   },
   "file_extension": ".py",
   "mimetype": "text/x-python",
   "name": "python",
   "nbconvert_exporter": "python",
   "pygments_lexer": "ipython3",
   "version": "3.7.5"
  }
 },
 "nbformat": 4,
 "nbformat_minor": 5
}
