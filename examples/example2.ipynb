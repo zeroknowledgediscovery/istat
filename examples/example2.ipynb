{
 "cells": [
  {
   "cell_type": "code",
   "execution_count": 1,
   "metadata": {},
   "outputs": [],
   "source": [
    "import sys\n",
    "import os.path\n",
    "import pylab as plt\n",
    "from zedstat import zedstat \n",
    "import pandas as pd\n",
    "plt.style.use('fivethirtyeight')"
   ]
  },
  {
   "cell_type": "code",
   "execution_count": 2,
   "metadata": {},
   "outputs": [],
   "source": [
    "#\n",
    "# order is order of spline used for smoothing\n",
    "# alpha is significance level\n",
    "# prevalence is prevalence of positive class\n",
    "# \n",
    "zt=zedstat.processRoc(df=pd.read_csv('examples_data/roc_cat.csv'),\n",
    "           order=3, \n",
    "           total_samples=1000,\n",
    "           positive_samples=470,\n",
    "           alpha=0.01,\n",
    "           prevalence=.5)"
   ]
  },
  {
   "cell_type": "code",
   "execution_count": 3,
   "metadata": {},
   "outputs": [],
   "source": [
    "# compute smoothened roc and other performance measures\n",
    "zt.smooth(STEP=0.001)\n",
    "zt.allmeasures(interpolate=False)\n",
    "zt.usample(precision=3)\n",
    "zt.getBounds()"
   ]
  },
  {
   "cell_type": "code",
   "execution_count": 4,
   "metadata": {},
   "outputs": [
    {
     "data": {
      "image/png": "[encoded data removed]",
      "text/plain": [
       "<Figure size 432x288 with 1 Axes>"
      ]
     },
     "metadata": {},
     "output_type": "display_data"
    }
   ],
   "source": [
    "ax=plt.gca()\n",
    "ax=zt.get().tpr.plot(ax=ax,color='k')\n",
    "plt.fill_between(x=zt.get().index, y1=zt.df_lim['U'].tpr,y2=zt.df_lim['L'].tpr, color='k',alpha=.2)\n",
    "ax.set_xlim(0,1)\n",
    "ax.set_ylim(0,1)\n",
    "ax.set_ylabel('tpr');"
   ]
  },
  {
   "cell_type": "code",
   "execution_count": 5,
   "metadata": {},
   "outputs": [
    {
     "data": {
      "text/plain": [
       "(0.8342273145150418, 0.8632434514371521, 0.8052129775827326)"
      ]
     },
     "execution_count": 5,
     "metadata": {},
     "output_type": "execute_result"
    }
   ],
   "source": [
    "zt.auc()"
   ]
  },
  {
   "cell_type": "code",
   "execution_count": 6,
   "metadata": {},
   "outputs": [
    {
     "data": {
      "text/html": [
       "<div>\n",
       "<style scoped>\n",
       "    .dataframe tbody tr th:only-of-type {\n",
       "        vertical-align: middle;\n",
       "    }\n",
       "\n",
       "    .dataframe tbody tr th {\n",
       "        vertical-align: top;\n",
       "    }\n",
       "\n",
       "    .dataframe thead th {\n",
       "        text-align: right;\n",
       "    }\n",
       "</style>\n",
       "<table border=\"1\" class=\"dataframe\">\n",
       "  <thead>\n",
       "    <tr style=\"text-align: right;\">\n",
       "      <th></th>\n",
       "      <th>tpr</th>\n",
       "      <th>ppv</th>\n",
       "      <th>acc</th>\n",
       "      <th>npv</th>\n",
       "      <th>LR+</th>\n",
       "      <th>LR-</th>\n",
       "    </tr>\n",
       "    <tr>\n",
       "      <th>fpr</th>\n",
       "      <th></th>\n",
       "      <th></th>\n",
       "      <th></th>\n",
       "      <th></th>\n",
       "      <th></th>\n",
       "      <th></th>\n",
       "    </tr>\n",
       "  </thead>\n",
       "  <tbody>\n",
       "    <tr>\n",
       "      <th>0.000</th>\n",
       "      <td>0.000000</td>\n",
       "      <td>1.000000</td>\n",
       "      <td>0.500000</td>\n",
       "      <td>0.500000</td>\n",
       "      <td>8.794218</td>\n",
       "      <td>1.000000</td>\n",
       "    </tr>\n",
       "    <tr>\n",
       "      <th>0.001</th>\n",
       "      <td>0.010953</td>\n",
       "      <td>1.603179</td>\n",
       "      <td>0.504526</td>\n",
       "      <td>0.502294</td>\n",
       "      <td>10.952605</td>\n",
       "      <td>0.990938</td>\n",
       "    </tr>\n",
       "    <tr>\n",
       "      <th>0.002</th>\n",
       "      <td>0.017857</td>\n",
       "      <td>0.848352</td>\n",
       "      <td>0.507929</td>\n",
       "      <td>0.504036</td>\n",
       "      <td>8.928571</td>\n",
       "      <td>0.984111</td>\n",
       "    </tr>\n",
       "    <tr>\n",
       "      <th>0.003</th>\n",
       "      <td>0.026786</td>\n",
       "      <td>0.875490</td>\n",
       "      <td>0.511893</td>\n",
       "      <td>0.506084</td>\n",
       "      <td>8.928571</td>\n",
       "      <td>0.976143</td>\n",
       "    </tr>\n",
       "    <tr>\n",
       "      <th>0.004</th>\n",
       "      <td>0.035714</td>\n",
       "      <td>0.888060</td>\n",
       "      <td>0.515857</td>\n",
       "      <td>0.508153</td>\n",
       "      <td>8.928571</td>\n",
       "      <td>0.968158</td>\n",
       "    </tr>\n",
       "    <tr>\n",
       "      <th>...</th>\n",
       "      <td>...</td>\n",
       "      <td>...</td>\n",
       "      <td>...</td>\n",
       "      <td>...</td>\n",
       "      <td>...</td>\n",
       "      <td>...</td>\n",
       "    </tr>\n",
       "    <tr>\n",
       "      <th>0.996</th>\n",
       "      <td>1.000000</td>\n",
       "      <td>0.501002</td>\n",
       "      <td>0.502000</td>\n",
       "      <td>1.000000</td>\n",
       "      <td>1.004016</td>\n",
       "      <td>0.000000</td>\n",
       "    </tr>\n",
       "    <tr>\n",
       "      <th>0.997</th>\n",
       "      <td>1.000000</td>\n",
       "      <td>0.500751</td>\n",
       "      <td>0.501500</td>\n",
       "      <td>1.000000</td>\n",
       "      <td>1.003009</td>\n",
       "      <td>0.000000</td>\n",
       "    </tr>\n",
       "    <tr>\n",
       "      <th>0.998</th>\n",
       "      <td>1.000000</td>\n",
       "      <td>0.500501</td>\n",
       "      <td>0.501000</td>\n",
       "      <td>1.000000</td>\n",
       "      <td>1.002004</td>\n",
       "      <td>0.000000</td>\n",
       "    </tr>\n",
       "    <tr>\n",
       "      <th>0.999</th>\n",
       "      <td>1.000000</td>\n",
       "      <td>0.500250</td>\n",
       "      <td>0.500500</td>\n",
       "      <td>1.000000</td>\n",
       "      <td>1.001001</td>\n",
       "      <td>0.000000</td>\n",
       "    </tr>\n",
       "    <tr>\n",
       "      <th>1.000</th>\n",
       "      <td>1.000000</td>\n",
       "      <td>0.000000</td>\n",
       "      <td>0.500000</td>\n",
       "      <td>1.005368</td>\n",
       "      <td>1.000000</td>\n",
       "      <td>0.000000</td>\n",
       "    </tr>\n",
       "  </tbody>\n",
       "</table>\n",
       "<p>1001 rows × 6 columns</p>\n",
       "</div>"
      ],
      "text/plain": [
       "            tpr       ppv       acc       npv        LR+       LR-\n",
       "fpr                                                               \n",
       "0.000  0.000000  1.000000  0.500000  0.500000   8.794218  1.000000\n",
       "0.001  0.010953  1.603179  0.504526  0.502294  10.952605  0.990938\n",
       "0.002  0.017857  0.848352  0.507929  0.504036   8.928571  0.984111\n",
       "0.003  0.026786  0.875490  0.511893  0.506084   8.928571  0.976143\n",
       "0.004  0.035714  0.888060  0.515857  0.508153   8.928571  0.968158\n",
       "...         ...       ...       ...       ...        ...       ...\n",
       "0.996  1.000000  0.501002  0.502000  1.000000   1.004016  0.000000\n",
       "0.997  1.000000  0.500751  0.501500  1.000000   1.003009  0.000000\n",
       "0.998  1.000000  0.500501  0.501000  1.000000   1.002004  0.000000\n",
       "0.999  1.000000  0.500250  0.500500  1.000000   1.001001  0.000000\n",
       "1.000  1.000000  0.000000  0.500000  1.005368   1.000000  0.000000\n",
       "\n",
       "[1001 rows x 6 columns]"
      ]
     },
     "execution_count": 6,
     "metadata": {},
     "output_type": "execute_result"
    }
   ],
   "source": [
    "zt.get()"
   ]
  },
  {
   "cell_type": "code",
   "execution_count": 8,
   "metadata": {},
   "outputs": [
    {
     "data": {
      "text/html": [
       "<div>\n",
       "<style scoped>\n",
       "    .dataframe tbody tr th:only-of-type {\n",
       "        vertical-align: middle;\n",
       "    }\n",
       "\n",
       "    .dataframe tbody tr th {\n",
       "        vertical-align: top;\n",
       "    }\n",
       "\n",
       "    .dataframe thead th {\n",
       "        text-align: right;\n",
       "    }\n",
       "</style>\n",
       "<table border=\"1\" class=\"dataframe\">\n",
       "  <thead>\n",
       "    <tr style=\"text-align: right;\">\n",
       "      <th></th>\n",
       "      <th>fpr</th>\n",
       "      <th>tpr</th>\n",
       "      <th>ppv</th>\n",
       "      <th>acc</th>\n",
       "      <th>npv</th>\n",
       "      <th>LR+</th>\n",
       "      <th>LR-</th>\n",
       "    </tr>\n",
       "  </thead>\n",
       "  <tbody>\n",
       "    <tr>\n",
       "      <th>high precision</th>\n",
       "      <td>0.023</td>\n",
       "      <td>0.205357</td>\n",
       "      <td>0.942395</td>\n",
       "      <td>0.591179</td>\n",
       "      <td>0.551871</td>\n",
       "      <td>8.928571</td>\n",
       "      <td>0.813350</td>\n",
       "    </tr>\n",
       "    <tr>\n",
       "      <th>high sensitivity</th>\n",
       "      <td>0.157</td>\n",
       "      <td>0.629630</td>\n",
       "      <td>0.799347</td>\n",
       "      <td>0.736315</td>\n",
       "      <td>0.696316</td>\n",
       "      <td>4.010380</td>\n",
       "      <td>0.439348</td>\n",
       "    </tr>\n",
       "  </tbody>\n",
       "</table>\n",
       "</div>"
      ],
      "text/plain": [
       "                    fpr       tpr       ppv       acc       npv       LR+  \\\n",
       "high precision    0.023  0.205357  0.942395  0.591179  0.551871  8.928571   \n",
       "high sensitivity  0.157  0.629630  0.799347  0.736315  0.696316  4.010380   \n",
       "\n",
       "                       LR-  \n",
       "high precision    0.813350  \n",
       "high sensitivity  0.439348  "
      ]
     },
     "metadata": {},
     "output_type": "display_data"
    },
    {
     "name": "stdout",
     "output_type": "stream",
     "text": [
      "high precision operation:\n",
      " For every 100 positive instances\n",
      " we raise 31 flags,\n",
      " out of which 29 are true positives\n",
      " 3 are false alarms\n",
      " 71 cases are missed\n",
      "\n",
      "\n",
      "high recall operation:\n",
      " For every 100 positive instances\n",
      " we raise 74 flags,\n",
      " out of which 59 are true positives\n",
      " 14 are false alarms\n",
      " 41 cases are missed\n"
     ]
    }
   ],
   "source": [
    "zt.operating_zone(LRminus=.95,LRplus=4)\n",
    "display(zt._operating_zone)\n",
    "rf0,txt0=zt.interpret(fpr=zt._operating_zone.fpr.values[0],number_of_positives=100)\n",
    "rf1,txt1=zt.interpret(fpr=zt._operating_zone.fpr.values[1],number_of_positives=100)\n",
    "print('high precision operation:\\n','\\n '.join(txt0))\n",
    "print('\\n')\n",
    "print('high recall operation:\\n','\\n '.join(txt1))"
   ]
  },
  {
   "cell_type": "markdown",
   "metadata": {},
   "source": [
    "## writing tables to latex"
   ]
  },
  {
   "cell_type": "code",
   "execution_count": 9,
   "metadata": {},
   "outputs": [],
   "source": [
    "from zedstat.textable import textable\n",
    "textable(zt.get(),tabname='table.tex',FORMAT='%1.1f',TABFORMAT='L{1in}|L{1in}|L{1in}|L{1in}|L{1in}|L{1in}|L{1in}|L{1in}',LNTERM='\\\\\\\\\\n')"
   ]
  },
  {
   "cell_type": "code",
   "execution_count": 10,
   "metadata": {},
   "outputs": [
    {
     "data": {
      "text/html": [
       "<div>\n",
       "<style scoped>\n",
       "    .dataframe tbody tr th:only-of-type {\n",
       "        vertical-align: middle;\n",
       "    }\n",
       "\n",
       "    .dataframe tbody tr th {\n",
       "        vertical-align: top;\n",
       "    }\n",
       "\n",
       "    .dataframe thead th {\n",
       "        text-align: right;\n",
       "    }\n",
       "</style>\n",
       "<table border=\"1\" class=\"dataframe\">\n",
       "  <thead>\n",
       "    <tr style=\"text-align: right;\">\n",
       "      <th></th>\n",
       "      <th>tpr</th>\n",
       "      <th>ppv</th>\n",
       "      <th>acc</th>\n",
       "      <th>npv</th>\n",
       "      <th>LR+</th>\n",
       "      <th>LR-</th>\n",
       "    </tr>\n",
       "    <tr>\n",
       "      <th>fpr</th>\n",
       "      <th></th>\n",
       "      <th></th>\n",
       "      <th></th>\n",
       "      <th></th>\n",
       "      <th></th>\n",
       "      <th></th>\n",
       "    </tr>\n",
       "  </thead>\n",
       "  <tbody>\n",
       "    <tr>\n",
       "      <th>0.023</th>\n",
       "      <td>$0.205 \\pm 0.047$</td>\n",
       "      <td>$0.942 \\pm 0.021$</td>\n",
       "      <td>$0.591 \\pm 0.023$</td>\n",
       "      <td>$0.551 \\pm 0.014$</td>\n",
       "      <td>$8.928 \\pm 2.086$</td>\n",
       "      <td>$0.813 \\pm 0.049$</td>\n",
       "    </tr>\n",
       "    <tr>\n",
       "      <th>0.157</th>\n",
       "      <td>$0.629 \\pm 0.057$</td>\n",
       "      <td>$0.799 \\pm 0.014$</td>\n",
       "      <td>$0.736 \\pm 0.028$</td>\n",
       "      <td>$0.696 \\pm 0.032$</td>\n",
       "      <td>$4.010 \\pm 0.365$</td>\n",
       "      <td>$0.439 \\pm 0.068$</td>\n",
       "    </tr>\n",
       "  </tbody>\n",
       "</table>\n",
       "</div>"
      ],
      "text/plain": [
       "                     tpr                ppv                acc  \\\n",
       "fpr                                                              \n",
       "0.023  $0.205 \\pm 0.047$  $0.942 \\pm 0.021$  $0.591 \\pm 0.023$   \n",
       "0.157  $0.629 \\pm 0.057$  $0.799 \\pm 0.014$  $0.736 \\pm 0.028$   \n",
       "\n",
       "                     npv                LR+                LR-  \n",
       "fpr                                                             \n",
       "0.023  $0.551 \\pm 0.014$  $8.928 \\pm 2.086$  $0.813 \\pm 0.049$  \n",
       "0.157  $0.696 \\pm 0.032$  $4.010 \\pm 0.365$  $0.439 \\pm 0.068$  "
      ]
     },
     "execution_count": 10,
     "metadata": {},
     "output_type": "execute_result"
    }
   ],
   "source": [
    "#pd.options.display.html.use_mathjax = False\n",
    "from zedstat.textable import tablewithbounds\n",
    "xf=tablewithbounds(zt.get(),zt.usample(zt.df_lim['U']),zt.usample(zt.df_lim['L']))#.to_csv('table.csv')\n",
    "xf.loc[zt._operating_zone.fpr.values]"
   ]
  },
  {
   "cell_type": "code",
   "execution_count": 12,
   "metadata": {},
   "outputs": [],
   "source": [
    "from zedstat.textable import textable\n",
    "textable(xf,tabname='tmp.tex',FORMAT='%1.3f',INDEX=True,LNTERM='\\\\\\\\\\\\hline\\n')     "
   ]
  },
  {
   "cell_type": "code",
   "execution_count": null,
   "metadata": {},
   "outputs": [],
   "source": []
  }
 ],
 "metadata": {
  "kernelspec": {
   "display_name": "Python 3 (ipykernel)",
   "language": "python",
   "name": "python3"
  },
  "language_info": {
   "codemirror_mode": {
    "name": "ipython",
    "version": 3
   },
   "file_extension": ".py",
   "mimetype": "text/x-python",
   "name": "python",
   "nbconvert_exporter": "python",
   "pygments_lexer": "ipython3",
   "version": "3.7.5"
  }
 },
 "nbformat": 4,
 "nbformat_minor": 4
}
