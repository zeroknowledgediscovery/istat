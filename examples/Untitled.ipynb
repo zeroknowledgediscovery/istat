{
 "cells": [
  {
   "cell_type": "code",
   "execution_count": 12,
   "metadata": {},
   "outputs": [],
   "source": [
    "import sys\n",
    "import os.path\n",
    "import pylab as plt\n",
    "path = '../'\n",
    "sys.path.append(path)\n",
    "from istat import istat\n",
    "import pandas as pd"
   ]
  },
  {
   "cell_type": "code",
   "execution_count": 13,
   "metadata": {},
   "outputs": [],
   "source": [
    "df=pd.read_csv('./roc.csv')\n",
    "df=df.sort_values('fpr')\n",
    "#df=df.drop('threshold',axis=1)"
   ]
  },
  {
   "cell_type": "code",
   "execution_count": 14,
   "metadata": {},
   "outputs": [],
   "source": [
    "IST=istat(df=df,order=3,total_samples=100000,positive_samples=1000,alpha=0.1,prevalence=.01)"
   ]
  },
  {
   "cell_type": "code",
   "execution_count": 15,
   "metadata": {},
   "outputs": [
    {
     "name": "stdout",
     "output_type": "stream",
     "text": [
      "{'L': 0.8531552715556388, 'U': 0.883767311509942, 'nominal': 0.8685086599817684}\n"
     ]
    }
   ],
   "source": [
    "IST.smooth(STEP=0.001)\n",
    "IST.convexify()\n",
    "IST.allmeasures(interpolate=True)\n",
    "IST.correctPPV()\n",
    "IST.usample(precision=3)\n",
    "IST.cb_delta()\n",
    "IST.getUL(direction='L')\n",
    "IST.getUL(direction='U')\n",
    "print(IST.auc())\n"
   ]
  },
  {
   "cell_type": "code",
   "execution_count": 16,
   "metadata": {},
   "outputs": [
    {
     "data": {
      "image/png": "[encoded data removed]",
      "text/plain": [
       "<Figure size 432x288 with 1 Axes>"
      ]
     },
     "metadata": {
      "needs_background": "light"
     },
     "output_type": "display_data"
    }
   ],
   "source": [
    "ax=IST.df_lim['U'].tpr.plot()\n",
    "ax=IST.df_lim['L'].tpr.plot(ax=ax)\n",
    "ax=IST.get().tpr.plot(ax=ax)\n"
   ]
  },
  {
   "cell_type": "code",
   "execution_count": 17,
   "metadata": {},
   "outputs": [],
   "source": [
    "wf=IST.get()"
   ]
  },
  {
   "cell_type": "code",
   "execution_count": 18,
   "metadata": {},
   "outputs": [
    {
     "data": {
      "text/plain": [
       "<AxesSubplot:xlabel='LR-'>"
      ]
     },
     "execution_count": 18,
     "metadata": {},
     "output_type": "execute_result"
    },
    {
     "data": {
      "image/png": "[encoded data removed]",
      "text/plain": [
       "<Figure size 432x288 with 1 Axes>"
      ]
     },
     "metadata": {
      "needs_background": "light"
     },
     "output_type": "display_data"
    }
   ],
   "source": [
    "wf.plot(x='LR-',y='LR+')"
   ]
  },
  {
   "cell_type": "code",
   "execution_count": 19,
   "metadata": {},
   "outputs": [
    {
     "data": {
      "text/html": [
       "<div>\n",
       "<style scoped>\n",
       "    .dataframe tbody tr th:only-of-type {\n",
       "        vertical-align: middle;\n",
       "    }\n",
       "\n",
       "    .dataframe tbody tr th {\n",
       "        vertical-align: top;\n",
       "    }\n",
       "\n",
       "    .dataframe thead th {\n",
       "        text-align: right;\n",
       "    }\n",
       "</style>\n",
       "<table border=\"1\" class=\"dataframe\">\n",
       "  <thead>\n",
       "    <tr style=\"text-align: right;\">\n",
       "      <th></th>\n",
       "      <th>fpr</th>\n",
       "      <th>tpr</th>\n",
       "      <th>ppv</th>\n",
       "      <th>acc</th>\n",
       "      <th>npv</th>\n",
       "      <th>LR+</th>\n",
       "      <th>LR-</th>\n",
       "      <th>threshold</th>\n",
       "    </tr>\n",
       "  </thead>\n",
       "  <tbody>\n",
       "    <tr>\n",
       "      <th>high precision</th>\n",
       "      <td>0.006</td>\n",
       "      <td>0.360985</td>\n",
       "      <td>0.357206</td>\n",
       "      <td>0.987062</td>\n",
       "      <td>0.993544</td>\n",
       "      <td>55.121401</td>\n",
       "      <td>0.643252</td>\n",
       "      <td>0.134702</td>\n",
       "    </tr>\n",
       "    <tr>\n",
       "      <th>high sensitivity</th>\n",
       "      <td>0.058</td>\n",
       "      <td>0.586942</td>\n",
       "      <td>0.092155</td>\n",
       "      <td>0.937978</td>\n",
       "      <td>0.995588</td>\n",
       "      <td>10.050344</td>\n",
       "      <td>0.438703</td>\n",
       "      <td>0.016043</td>\n",
       "    </tr>\n",
       "  </tbody>\n",
       "</table>\n",
       "</div>"
      ],
      "text/plain": [
       "                    fpr       tpr       ppv       acc       npv        LR+  \\\n",
       "high precision    0.006  0.360985  0.357206  0.987062  0.993544  55.121401   \n",
       "high sensitivity  0.058  0.586942  0.092155  0.937978  0.995588  10.050344   \n",
       "\n",
       "                       LR-  threshold  \n",
       "high precision    0.643252   0.134702  \n",
       "high sensitivity  0.438703   0.016043  "
      ]
     },
     "execution_count": 19,
     "metadata": {},
     "output_type": "execute_result"
    }
   ],
   "source": [
    "IST.operating_zone(LRminus=.65)"
   ]
  },
  {
   "cell_type": "code",
   "execution_count": 20,
   "metadata": {
    "scrolled": true
   },
   "outputs": [],
   "source": [
    "IST.auc_cb2()"
   ]
  },
  {
   "cell_type": "code",
   "execution_count": 21,
   "metadata": {},
   "outputs": [
    {
     "data": {
      "text/plain": [
       "{'L': 0.8531552715556388,\n",
       " 'U': 0.883767311509942,\n",
       " 'nominal': 0.8685086599817684,\n",
       " 'auc_L': 0.8519208429937031,\n",
       " 'auc_U': 0.8870851289710118}"
      ]
     },
     "execution_count": 21,
     "metadata": {},
     "output_type": "execute_result"
    }
   ],
   "source": [
    "IST.auc()"
   ]
  },
  {
   "cell_type": "code",
   "execution_count": 22,
   "metadata": {},
   "outputs": [
    {
     "data": {
      "text/html": [
       "<div>\n",
       "<style scoped>\n",
       "    .dataframe tbody tr th:only-of-type {\n",
       "        vertical-align: middle;\n",
       "    }\n",
       "\n",
       "    .dataframe tbody tr th {\n",
       "        vertical-align: top;\n",
       "    }\n",
       "\n",
       "    .dataframe thead th {\n",
       "        text-align: right;\n",
       "    }\n",
       "</style>\n",
       "<table border=\"1\" class=\"dataframe\">\n",
       "  <thead>\n",
       "    <tr style=\"text-align: right;\">\n",
       "      <th></th>\n",
       "      <th>pos</th>\n",
       "      <th>flags</th>\n",
       "      <th>tp</th>\n",
       "      <th>fp</th>\n",
       "      <th>fn</th>\n",
       "    </tr>\n",
       "  </thead>\n",
       "  <tbody>\n",
       "    <tr>\n",
       "      <th>numbers</th>\n",
       "      <td>100</td>\n",
       "      <td>247</td>\n",
       "      <td>46</td>\n",
       "      <td>201</td>\n",
       "      <td>54</td>\n",
       "    </tr>\n",
       "  </tbody>\n",
       "</table>\n",
       "</div>"
      ],
      "text/plain": [
       "         pos  flags  tp   fp  fn\n",
       "numbers  100    247  46  201  54"
      ]
     },
     "execution_count": 22,
     "metadata": {},
     "output_type": "execute_result"
    }
   ],
   "source": [
    "IST.interpret(fpr=0.006,number_of_positives=100)"
   ]
  },
  {
   "cell_type": "code",
   "execution_count": null,
   "metadata": {},
   "outputs": [],
   "source": []
  },
  {
   "cell_type": "code",
   "execution_count": null,
   "metadata": {},
   "outputs": [],
   "source": []
  }
 ],
 "metadata": {
  "kernelspec": {
   "display_name": "Python 3 (ipykernel)",
   "language": "python",
   "name": "python3"
  },
  "language_info": {
   "codemirror_mode": {
    "name": "ipython",
    "version": 3
   },
   "file_extension": ".py",
   "mimetype": "text/x-python",
   "name": "python",
   "nbconvert_exporter": "python",
   "pygments_lexer": "ipython3",
   "version": "3.10.5"
  }
 },
 "nbformat": 4,
 "nbformat_minor": 4
}
